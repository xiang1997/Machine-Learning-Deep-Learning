{
 "cells": [
  {
   "cell_type": "markdown",
   "metadata": {},
   "source": [
    "# Classification using a Neural Network - Handle Class Imbalance (Keras)\n",
    "The dataset is from https://www.kaggle.com/c/GiveMeSomeCredit <br>\n",
    "\"Banks play a crucial role in market economies. They decide who can get finance and on what terms and can make or break investment decisions. For markets and society to function, individuals and companies need access to credit. Credit scoring algorithms, which make a guess at the probability of default, are the method banks use to determine whether or not a loan should be granted.\"  <br>\n",
    "We will build an MLP classifier to predict if someone will experience financial distress and therefore cannot pay off credit card (i.e. default). It is a binary classificaiton problem: default (class-1) or not default  (class-0) <br>\n",
    "Real dataset is often imbalanced: class-i may have much more data samples than class-j."
   ]
  },
  {
   "cell_type": "code",
   "execution_count": 102,
   "metadata": {},
   "outputs": [],
   "source": [
    "import tensorflow.keras as keras\n",
    "import sys\n",
    "sys.modules['keras'] = keras\n",
    "from keras.models import Sequential\n",
    "from keras.layers import Dense\n",
    "from keras.optimizers import SGD, Adam\n",
    "from keras.datasets import mnist\n",
    "import matplotlib.pyplot as plt\n",
    "from IPython import display\n",
    "import numpy as np\n",
    "import pandas as pd"
   ]
  },
  {
   "cell_type": "markdown",
   "metadata": {},
   "source": [
    "### Load the data"
   ]
  },
  {
   "cell_type": "code",
   "execution_count": 103,
   "metadata": {},
   "outputs": [
    {
     "data": {
      "text/html": [
       "<div>\n",
       "<style scoped>\n",
       "    .dataframe tbody tr th:only-of-type {\n",
       "        vertical-align: middle;\n",
       "    }\n",
       "\n",
       "    .dataframe tbody tr th {\n",
       "        vertical-align: top;\n",
       "    }\n",
       "\n",
       "    .dataframe thead th {\n",
       "        text-align: right;\n",
       "    }\n",
       "</style>\n",
       "<table border=\"1\" class=\"dataframe\">\n",
       "  <thead>\n",
       "    <tr style=\"text-align: right;\">\n",
       "      <th></th>\n",
       "      <th>id</th>\n",
       "      <th>SeriousDlqin2yrs</th>\n",
       "      <th>RevolvingUtilizationOfUnsecuredLines</th>\n",
       "      <th>age</th>\n",
       "      <th>NumberOfTime30-59DaysPastDueNotWorse</th>\n",
       "      <th>DebtRatio</th>\n",
       "      <th>MonthlyIncome</th>\n",
       "      <th>NumberOfOpenCreditLinesAndLoans</th>\n",
       "      <th>NumberOfTimes90DaysLate</th>\n",
       "      <th>NumberRealEstateLoansOrLines</th>\n",
       "      <th>NumberOfTime60-89DaysPastDueNotWorse</th>\n",
       "      <th>NumberOfDependents</th>\n",
       "    </tr>\n",
       "  </thead>\n",
       "  <tbody>\n",
       "    <tr>\n",
       "      <td>0</td>\n",
       "      <td>1</td>\n",
       "      <td>1</td>\n",
       "      <td>0.766127</td>\n",
       "      <td>45</td>\n",
       "      <td>2</td>\n",
       "      <td>0.802982</td>\n",
       "      <td>9120.0</td>\n",
       "      <td>13</td>\n",
       "      <td>0</td>\n",
       "      <td>6</td>\n",
       "      <td>0</td>\n",
       "      <td>2.0</td>\n",
       "    </tr>\n",
       "    <tr>\n",
       "      <td>1</td>\n",
       "      <td>2</td>\n",
       "      <td>0</td>\n",
       "      <td>0.957151</td>\n",
       "      <td>40</td>\n",
       "      <td>0</td>\n",
       "      <td>0.121876</td>\n",
       "      <td>2600.0</td>\n",
       "      <td>4</td>\n",
       "      <td>0</td>\n",
       "      <td>0</td>\n",
       "      <td>0</td>\n",
       "      <td>1.0</td>\n",
       "    </tr>\n",
       "    <tr>\n",
       "      <td>2</td>\n",
       "      <td>3</td>\n",
       "      <td>0</td>\n",
       "      <td>0.658180</td>\n",
       "      <td>38</td>\n",
       "      <td>1</td>\n",
       "      <td>0.085113</td>\n",
       "      <td>3042.0</td>\n",
       "      <td>2</td>\n",
       "      <td>1</td>\n",
       "      <td>0</td>\n",
       "      <td>0</td>\n",
       "      <td>0.0</td>\n",
       "    </tr>\n",
       "    <tr>\n",
       "      <td>3</td>\n",
       "      <td>4</td>\n",
       "      <td>0</td>\n",
       "      <td>0.233810</td>\n",
       "      <td>30</td>\n",
       "      <td>0</td>\n",
       "      <td>0.036050</td>\n",
       "      <td>3300.0</td>\n",
       "      <td>5</td>\n",
       "      <td>0</td>\n",
       "      <td>0</td>\n",
       "      <td>0</td>\n",
       "      <td>0.0</td>\n",
       "    </tr>\n",
       "    <tr>\n",
       "      <td>4</td>\n",
       "      <td>5</td>\n",
       "      <td>0</td>\n",
       "      <td>0.907239</td>\n",
       "      <td>49</td>\n",
       "      <td>1</td>\n",
       "      <td>0.024926</td>\n",
       "      <td>63588.0</td>\n",
       "      <td>7</td>\n",
       "      <td>0</td>\n",
       "      <td>1</td>\n",
       "      <td>0</td>\n",
       "      <td>0.0</td>\n",
       "    </tr>\n",
       "  </tbody>\n",
       "</table>\n",
       "</div>"
      ],
      "text/plain": [
       "   id  SeriousDlqin2yrs  RevolvingUtilizationOfUnsecuredLines  age  \\\n",
       "0   1                 1                              0.766127   45   \n",
       "1   2                 0                              0.957151   40   \n",
       "2   3                 0                              0.658180   38   \n",
       "3   4                 0                              0.233810   30   \n",
       "4   5                 0                              0.907239   49   \n",
       "\n",
       "   NumberOfTime30-59DaysPastDueNotWorse  DebtRatio  MonthlyIncome  \\\n",
       "0                                     2   0.802982         9120.0   \n",
       "1                                     0   0.121876         2600.0   \n",
       "2                                     1   0.085113         3042.0   \n",
       "3                                     0   0.036050         3300.0   \n",
       "4                                     1   0.024926        63588.0   \n",
       "\n",
       "   NumberOfOpenCreditLinesAndLoans  NumberOfTimes90DaysLate  \\\n",
       "0                               13                        0   \n",
       "1                                4                        0   \n",
       "2                                2                        1   \n",
       "3                                5                        0   \n",
       "4                                7                        0   \n",
       "\n",
       "   NumberRealEstateLoansOrLines  NumberOfTime60-89DaysPastDueNotWorse  \\\n",
       "0                             6                                     0   \n",
       "1                             0                                     0   \n",
       "2                             0                                     0   \n",
       "3                             0                                     0   \n",
       "4                             1                                     0   \n",
       "\n",
       "   NumberOfDependents  \n",
       "0                 2.0  \n",
       "1                 1.0  \n",
       "2                 0.0  \n",
       "3                 0.0  \n",
       "4                 0.0  "
      ]
     },
     "execution_count": 103,
     "metadata": {},
     "output_type": "execute_result"
    }
   ],
   "source": [
    "#every row of the table is a data sample (feature vector) from a person\n",
    "df = pd.read_csv('cs_data.csv')\n",
    "df.head()"
   ]
  },
  {
   "cell_type": "markdown",
   "metadata": {},
   "source": [
    "#### handle nan (null) in data (i.e. missing values)\n",
    "Some fields in the table are nan, which are missing values. <br>\n",
    "For example, someone may not want to reveal monthly income to whoever made the table/survey, then the table got nan."
   ]
  },
  {
   "cell_type": "code",
   "execution_count": 104,
   "metadata": {},
   "outputs": [
    {
     "data": {
      "text/plain": [
       "id                                          0\n",
       "SeriousDlqin2yrs                            0\n",
       "RevolvingUtilizationOfUnsecuredLines        0\n",
       "age                                         0\n",
       "NumberOfTime30-59DaysPastDueNotWorse        0\n",
       "DebtRatio                                   0\n",
       "MonthlyIncome                           29731\n",
       "NumberOfOpenCreditLinesAndLoans             0\n",
       "NumberOfTimes90DaysLate                     0\n",
       "NumberRealEstateLoansOrLines                0\n",
       "NumberOfTime60-89DaysPastDueNotWorse        0\n",
       "NumberOfDependents                       3924\n",
       "dtype: int64"
      ]
     },
     "execution_count": 104,
     "metadata": {},
     "output_type": "execute_result"
    }
   ],
   "source": [
    "df.isnull().sum()"
   ]
  },
  {
   "cell_type": "code",
   "execution_count": 105,
   "metadata": {},
   "outputs": [
    {
     "data": {
      "text/plain": [
       "id                                      0\n",
       "SeriousDlqin2yrs                        0\n",
       "RevolvingUtilizationOfUnsecuredLines    0\n",
       "age                                     0\n",
       "NumberOfTime30-59DaysPastDueNotWorse    0\n",
       "DebtRatio                               0\n",
       "MonthlyIncome                           0\n",
       "NumberOfOpenCreditLinesAndLoans         0\n",
       "NumberOfTimes90DaysLate                 0\n",
       "NumberRealEstateLoansOrLines            0\n",
       "NumberOfTime60-89DaysPastDueNotWorse    0\n",
       "NumberOfDependents                      0\n",
       "dtype: int64"
      ]
     },
     "execution_count": 105,
     "metadata": {},
     "output_type": "execute_result"
    }
   ],
   "source": [
    "#here, we use a simple method:\n",
    "#replace nan in each column with median value of that column\n",
    "#there are other methods in pandas and sklearn: interpolation in pandas and KNNImputer in sklearn\n",
    "from sklearn.impute import SimpleImputer\n",
    "imputer = SimpleImputer(strategy='median')\n",
    "dfv=imputer.fit_transform(df.values)\n",
    "df=pd.DataFrame(data=dfv, columns=df.columns)\n",
    "df.isnull().sum()"
   ]
  },
  {
   "cell_type": "markdown",
   "metadata": {},
   "source": [
    "### We have a highly imbalanced dataset\n",
    "139974 data samples in class-0 (normal) <br>\n",
    "10026 data samples in class-1 (financial distress)"
   ]
  },
  {
   "cell_type": "code",
   "execution_count": 106,
   "metadata": {},
   "outputs": [
    {
     "data": {
      "text/plain": [
       "<matplotlib.axes._subplots.AxesSubplot at 0x245b2674588>"
      ]
     },
     "execution_count": 106,
     "metadata": {},
     "output_type": "execute_result"
    },
    {
     "data": {
      "image/png": "[encoded data removed]",
      "text/plain": [
       "<Figure size 432x288 with 1 Axes>"
      ]
     },
     "metadata": {
      "needs_background": "light"
     },
     "output_type": "display_data"
    }
   ],
   "source": [
    "df['SeriousDlqin2yrs'].hist()"
   ]
  },
  {
   "cell_type": "markdown",
   "metadata": {},
   "source": [
    "#### Classification Goal: predict 'SeriousDlqin2yrs' (Y) using the other features (X)"
   ]
  },
  {
   "cell_type": "code",
   "execution_count": 107,
   "metadata": {},
   "outputs": [
    {
     "data": {
      "text/html": [
       "<div>\n",
       "<style scoped>\n",
       "    .dataframe tbody tr th:only-of-type {\n",
       "        vertical-align: middle;\n",
       "    }\n",
       "\n",
       "    .dataframe tbody tr th {\n",
       "        vertical-align: top;\n",
       "    }\n",
       "\n",
       "    .dataframe thead th {\n",
       "        text-align: right;\n",
       "    }\n",
       "</style>\n",
       "<table border=\"1\" class=\"dataframe\">\n",
       "  <thead>\n",
       "    <tr style=\"text-align: right;\">\n",
       "      <th></th>\n",
       "      <th>RevolvingUtilizationOfUnsecuredLines</th>\n",
       "      <th>age</th>\n",
       "      <th>NumberOfTime30-59DaysPastDueNotWorse</th>\n",
       "      <th>DebtRatio</th>\n",
       "      <th>MonthlyIncome</th>\n",
       "      <th>NumberOfOpenCreditLinesAndLoans</th>\n",
       "      <th>NumberOfTimes90DaysLate</th>\n",
       "      <th>NumberRealEstateLoansOrLines</th>\n",
       "      <th>NumberOfTime60-89DaysPastDueNotWorse</th>\n",
       "      <th>NumberOfDependents</th>\n",
       "    </tr>\n",
       "  </thead>\n",
       "  <tbody>\n",
       "    <tr>\n",
       "      <td>0</td>\n",
       "      <td>0.766127</td>\n",
       "      <td>45.0</td>\n",
       "      <td>2.0</td>\n",
       "      <td>0.802982</td>\n",
       "      <td>9120.0</td>\n",
       "      <td>13.0</td>\n",
       "      <td>0.0</td>\n",
       "      <td>6.0</td>\n",
       "      <td>0.0</td>\n",
       "      <td>2.0</td>\n",
       "    </tr>\n",
       "    <tr>\n",
       "      <td>1</td>\n",
       "      <td>0.957151</td>\n",
       "      <td>40.0</td>\n",
       "      <td>0.0</td>\n",
       "      <td>0.121876</td>\n",
       "      <td>2600.0</td>\n",
       "      <td>4.0</td>\n",
       "      <td>0.0</td>\n",
       "      <td>0.0</td>\n",
       "      <td>0.0</td>\n",
       "      <td>1.0</td>\n",
       "    </tr>\n",
       "    <tr>\n",
       "      <td>2</td>\n",
       "      <td>0.658180</td>\n",
       "      <td>38.0</td>\n",
       "      <td>1.0</td>\n",
       "      <td>0.085113</td>\n",
       "      <td>3042.0</td>\n",
       "      <td>2.0</td>\n",
       "      <td>1.0</td>\n",
       "      <td>0.0</td>\n",
       "      <td>0.0</td>\n",
       "      <td>0.0</td>\n",
       "    </tr>\n",
       "    <tr>\n",
       "      <td>3</td>\n",
       "      <td>0.233810</td>\n",
       "      <td>30.0</td>\n",
       "      <td>0.0</td>\n",
       "      <td>0.036050</td>\n",
       "      <td>3300.0</td>\n",
       "      <td>5.0</td>\n",
       "      <td>0.0</td>\n",
       "      <td>0.0</td>\n",
       "      <td>0.0</td>\n",
       "      <td>0.0</td>\n",
       "    </tr>\n",
       "    <tr>\n",
       "      <td>4</td>\n",
       "      <td>0.907239</td>\n",
       "      <td>49.0</td>\n",
       "      <td>1.0</td>\n",
       "      <td>0.024926</td>\n",
       "      <td>63588.0</td>\n",
       "      <td>7.0</td>\n",
       "      <td>0.0</td>\n",
       "      <td>1.0</td>\n",
       "      <td>0.0</td>\n",
       "      <td>0.0</td>\n",
       "    </tr>\n",
       "  </tbody>\n",
       "</table>\n",
       "</div>"
      ],
      "text/plain": [
       "   RevolvingUtilizationOfUnsecuredLines   age  \\\n",
       "0                              0.766127  45.0   \n",
       "1                              0.957151  40.0   \n",
       "2                              0.658180  38.0   \n",
       "3                              0.233810  30.0   \n",
       "4                              0.907239  49.0   \n",
       "\n",
       "   NumberOfTime30-59DaysPastDueNotWorse  DebtRatio  MonthlyIncome  \\\n",
       "0                                   2.0   0.802982         9120.0   \n",
       "1                                   0.0   0.121876         2600.0   \n",
       "2                                   1.0   0.085113         3042.0   \n",
       "3                                   0.0   0.036050         3300.0   \n",
       "4                                   1.0   0.024926        63588.0   \n",
       "\n",
       "   NumberOfOpenCreditLinesAndLoans  NumberOfTimes90DaysLate  \\\n",
       "0                             13.0                      0.0   \n",
       "1                              4.0                      0.0   \n",
       "2                              2.0                      1.0   \n",
       "3                              5.0                      0.0   \n",
       "4                              7.0                      0.0   \n",
       "\n",
       "   NumberRealEstateLoansOrLines  NumberOfTime60-89DaysPastDueNotWorse  \\\n",
       "0                           6.0                                   0.0   \n",
       "1                           0.0                                   0.0   \n",
       "2                           0.0                                   0.0   \n",
       "3                           0.0                                   0.0   \n",
       "4                           1.0                                   0.0   \n",
       "\n",
       "   NumberOfDependents  \n",
       "0                 2.0  \n",
       "1                 1.0  \n",
       "2                 0.0  \n",
       "3                 0.0  \n",
       "4                 0.0  "
      ]
     },
     "execution_count": 107,
     "metadata": {},
     "output_type": "execute_result"
    }
   ],
   "source": [
    "#'SeriousDlqin2yrs' is the target/class label, so it should not be in the input feature vector X\n",
    "#'id' of a person is useless for the classification task\n",
    "#so, we remove them from the table and get the input X\n",
    "X=df.drop(['SeriousDlqin2yrs', 'id'], axis=1)\n",
    "X.head()"
   ]
  },
  {
   "cell_type": "code",
   "execution_count": 108,
   "metadata": {},
   "outputs": [
    {
     "data": {
      "text/plain": [
       "0    1.0\n",
       "1    0.0\n",
       "2    0.0\n",
       "3    0.0\n",
       "4    0.0\n",
       "Name: SeriousDlqin2yrs, dtype: float64"
      ]
     },
     "execution_count": 108,
     "metadata": {},
     "output_type": "execute_result"
    }
   ],
   "source": [
    "#Y is the target/class label\n",
    "Y=df['SeriousDlqin2yrs']\n",
    "Y.head()"
   ]
  },
  {
   "cell_type": "code",
   "execution_count": 109,
   "metadata": {},
   "outputs": [],
   "source": [
    "# convert pandas dataframe/series to numpy array\n",
    "# sklearn functions may not work well with pandas data types\n",
    "X=X.values\n",
    "Y=Y.values"
   ]
  },
  {
   "cell_type": "code",
   "execution_count": 110,
   "metadata": {},
   "outputs": [],
   "source": [
    "#usually float32 is enough\n",
    "X = X.astype('float32')\n",
    "Y = Y.astype('float32')"
   ]
  },
  {
   "cell_type": "markdown",
   "metadata": {},
   "source": [
    "### create training, validation and test sets"
   ]
  },
  {
   "cell_type": "code",
   "execution_count": 111,
   "metadata": {},
   "outputs": [
    {
     "name": "stdout",
     "output_type": "stream",
     "text": [
      "train: (108000, 10) (108000,)\n",
      "validation: (12000, 10) (12000,)\n",
      "test: (30000, 10) (30000,)\n"
     ]
    }
   ],
   "source": [
    "from sklearn.model_selection import train_test_split\n",
    "X_train, X_test, Y_train, Y_test = train_test_split(X, Y, test_size=0.2, random_state=0)\n",
    "#split X_train and Y_train into a 'pure' training set and a validation set\n",
    "X_train, X_val, Y_train, Y_val = train_test_split(X_train, Y_train, test_size=0.1, random_state=0)\n",
    "print('train:', X_train.shape, Y_train.shape)\n",
    "print('validation:', X_val.shape, Y_val.shape)\n",
    "print('test:', X_test.shape, Y_test.shape)"
   ]
  },
  {
   "cell_type": "code",
   "execution_count": 112,
   "metadata": {},
   "outputs": [
    {
     "data": {
      "image/png": "[encoded data removed]",
      "text/plain": [
       "<Figure size 432x288 with 1 Axes>"
      ]
     },
     "metadata": {
      "needs_background": "light"
     },
     "output_type": "display_data"
    }
   ],
   "source": [
    "plt.hist(Y_train, bins=20);"
   ]
  },
  {
   "cell_type": "markdown",
   "metadata": {},
   "source": [
    "Let's do upsampling for class-1"
   ]
  },
  {
   "cell_type": "code",
   "execution_count": 113,
   "metadata": {},
   "outputs": [
    {
     "name": "stdout",
     "output_type": "stream",
     "text": [
      "X_train_c1 (100824, 10) (100824,)\n",
      "X_train.shape after upsampling (201648, 10)\n",
      "Y_train.shape after upsampling (201648,)\n"
     ]
    }
   ],
   "source": [
    "from sklearn.utils import resample\n",
    "X_train_c1  = resample(X_train[Y_train==1], n_samples=100824)\n",
    "Y_train_c1 = np.ones(X_train_c1.shape[0])\n",
    "print('X_train_c1', X_train_c1.shape, Y_train_c1.shape)\n",
    "X_train=np.concatenate([X_train[Y_train==0], X_train_c1], axis=0)\n",
    "Y_train=np.concatenate([Y_train[Y_train==0], Y_train_c1], axis=0)\n",
    "print('X_train.shape after upsampling', X_train.shape)\n",
    "print('Y_train.shape after upsampling', Y_train.shape)"
   ]
  },
  {
   "cell_type": "code",
   "execution_count": 114,
   "metadata": {},
   "outputs": [
    {
     "data": {
      "text/plain": [
       "dtype('float32')"
      ]
     },
     "execution_count": 114,
     "metadata": {},
     "output_type": "execute_result"
    }
   ],
   "source": [
    "Y.dtype"
   ]
  },
  {
   "cell_type": "code",
   "execution_count": 115,
   "metadata": {},
   "outputs": [],
   "source": [
    "#apply feature normalization to training, validation and test sets\n",
    "from sklearn.preprocessing import MinMaxScaler\n",
    "scaler=MinMaxScaler()\n",
    "scaler.fit(X_train) # think about why fit to X_train, not X ?\n",
    "X_train=scaler.transform(X_train)\n",
    "X_val=scaler.transform(X_val)\n",
    "X_test=scaler.transform(X_test)"
   ]
  },
  {
   "cell_type": "markdown",
   "metadata": {},
   "source": [
    "### we need to use weighted classification accuracy"
   ]
  },
  {
   "cell_type": "code",
   "execution_count": 116,
   "metadata": {},
   "outputs": [],
   "source": [
    "# we need to use weighted classification accuracy\n",
    "# try to understand it\n",
    "def weighted_accuracy(confusion):\n",
    "    #input: confusion is the confusion matrix\n",
    "    #output: acc is the weighted classification accuracy\n",
    "    M=confusion.copy().astype('float32')\n",
    "    for k in range(0, M.shape[0]):\n",
    "        M[k]/=M[k].sum()+1e-8    \n",
    "    acc = M.diagonal().sum()/M.sum()\n",
    "    return acc"
   ]
  },
  {
   "cell_type": "code",
   "execution_count": 117,
   "metadata": {},
   "outputs": [],
   "source": [
    "#we need this function to get weighted_accuracy on validation and test sets\n",
    "def test_acc(model, X, Y):\n",
    "    acc_test =0 \n",
    "    num_classes=2\n",
    "    confusion=np.zeros((num_classes,num_classes), dtype=np.int64)\n",
    "    Yp=model.predict(X, batch_size=64)\n",
    "    Y=Y.astype('int64')\n",
    "    #0.5 is the threshold for classification\n",
    "    Yp=(Yp.squeeze()>0.5).astype('int64')\n",
    "    for i in range(0, num_classes):\n",
    "        for j in range(0, num_classes):\n",
    "            confusion[i,j]+=np.sum((Y==i)&(Yp==j)).astype('int64') \n",
    "    acc_test=weighted_accuracy(confusion)\n",
    "    return acc_test, confusion"
   ]
  },
  {
   "cell_type": "markdown",
   "metadata": {},
   "source": [
    "## Your task begins here <br>\n",
    "see NN_binary_classification_Keras.ipynb in Lecture notes <br>\n",
    "try Adma with lr=0.001 <br>\n",
    "Usually, we need to tune the hyperparameters of a neural network, <br>\n",
    "such as the number of layers, the number of units in each layer <br>\n",
    "If you have plenty of time and enough computing power, try to find better hyperparameters <br>\n",
    "read papers about \"Neural Architecture Search\" https://arxiv.org/abs/1808.05377"
   ]
  },
  {
   "cell_type": "markdown",
   "metadata": {},
   "source": [
    "### Define the MLP model\n",
    "https://github.com/keras-team/keras/issues/7678 <br>\n",
    "we do not need to set the parameter \"from_logits\" for binary_crossentropy"
   ]
  },
  {
   "cell_type": "code",
   "execution_count": 118,
   "metadata": {},
   "outputs": [
    {
     "name": "stdout",
     "output_type": "stream",
     "text": [
      "Model: \"sequential_8\"\n",
      "_________________________________________________________________\n",
      "Layer (type)                 Output Shape              Param #   \n",
      "=================================================================\n",
      "dense_32 (Dense)             (None, 256)               2816      \n",
      "_________________________________________________________________\n",
      "dense_33 (Dense)             (None, 256)               65792     \n",
      "_________________________________________________________________\n",
      "dense_34 (Dense)             (None, 256)               65792     \n",
      "_________________________________________________________________\n",
      "dense_35 (Dense)             (None, 1)                 257       \n",
      "=================================================================\n",
      "Total params: 134,657\n",
      "Trainable params: 134,657\n",
      "Non-trainable params: 0\n",
      "_________________________________________________________________\n"
     ]
    }
   ],
   "source": [
    "model = Sequential()\n",
    "model.add(Dense(units=256, activation='relu', input_shape=(10,)))\n",
    "model.add(Dense(units=256, activation='relu'))\n",
    "model.add(Dense(units=256, activation='relu'))\n",
    "model.add(Dense(units=1, activation='sigmoid'))\n",
    "model.compile(loss='binary_crossentropy', optimizer=SGD(lr=0.01, momentum=0.9), metrics=['accuracy'])\n",
    "model.summary()"
   ]
  },
  {
   "cell_type": "code",
   "execution_count": 119,
   "metadata": {},
   "outputs": [],
   "source": [
    "loss_train_list=[]\n",
    "loss_val_list=[]\n",
    "acc_train_list=[]\n",
    "acc_val_list=[]"
   ]
  },
  {
   "cell_type": "markdown",
   "metadata": {},
   "source": [
    "### Train the model\n",
    "https://keras.io/getting-started/faq/#how-can-i-save-a-keras-model"
   ]
  },
  {
   "cell_type": "code",
   "execution_count": 120,
   "metadata": {
    "scrolled": false
   },
   "outputs": [
    {
     "name": "stdout",
     "output_type": "stream",
     "text": [
      "epoch 0\n",
      "Train on 201648 samples, validate on 12000 samples\n",
      "201648/201648 [==============================] - 24s 119us/sample - loss: 0.6364 - accuracy: 0.6316 - val_loss: 0.5143 - val_accuracy: 0.8389\n",
      "epoch 1\n",
      "Train on 201648 samples, validate on 12000 samples\n",
      "201648/201648 [==============================] - 39s 193us/sample - loss: 0.5674 - accuracy: 0.7032 - val_loss: 0.5979 - val_accuracy: 0.7367\n",
      "epoch 2\n",
      "Train on 201648 samples, validate on 12000 samples\n",
      "201648/201648 [==============================] - 35s 174us/sample - loss: 0.5461 - accuracy: 0.7219 - val_loss: 0.4357 - val_accuracy: 0.8602\n",
      "epoch 3\n",
      "Train on 201648 samples, validate on 12000 samples\n",
      "201648/201648 [==============================] - 36s 177us/sample - loss: 0.5364 - accuracy: 0.7309 - val_loss: 0.5238 - val_accuracy: 0.8170\n",
      "epoch 4\n",
      "Train on 201648 samples, validate on 12000 samples\n",
      "201648/201648 [==============================] - 38s 189us/sample - loss: 0.5317 - accuracy: 0.7354 - val_loss: 0.3875 - val_accuracy: 0.8871\n",
      "epoch 5\n",
      "Train on 201648 samples, validate on 12000 samples\n",
      "201648/201648 [==============================] - 35s 176us/sample - loss: 0.5294 - accuracy: 0.7382 - val_loss: 0.6630 - val_accuracy: 0.7275\n",
      "epoch 6\n",
      "Train on 201648 samples, validate on 12000 samples\n",
      "201648/201648 [==============================] - 36s 178us/sample - loss: 0.5244 - accuracy: 0.7423 - val_loss: 0.5349 - val_accuracy: 0.7830\n",
      "epoch 7\n",
      "Train on 201648 samples, validate on 12000 samples\n",
      "201648/201648 [==============================] - 29s 142us/sample - loss: 0.5222 - accuracy: 0.7452 - val_loss: 0.4141 - val_accuracy: 0.8636\n",
      "epoch 8\n",
      "Train on 201648 samples, validate on 12000 samples\n",
      "201648/201648 [==============================] - 28s 138us/sample - loss: 0.5218 - accuracy: 0.7452 - val_loss: 0.5584 - val_accuracy: 0.7883\n",
      "epoch 9\n",
      "Train on 201648 samples, validate on 12000 samples\n",
      "201648/201648 [==============================] - 32s 158us/sample - loss: 0.5187 - accuracy: 0.7480 - val_loss: 0.4497 - val_accuracy: 0.8397\n"
     ]
    }
   ],
   "source": [
    "for epoch in range(0, 10):   \n",
    "    print('epoch', epoch)\n",
    "    #set epochs=1\n",
    "    history=model.fit(X_train, Y_train, batch_size=64, epochs=1, validation_data=(X_val, Y_val))\n",
    "    loss_train_list.extend(history.history['loss'])\n",
    "    loss_val_list.extend(history.history['val_loss'])\n",
    "    acc_train_list.extend(history.history['accuracy'])\n",
    "    acc_val_list.extend(history.history['val_accuracy'])\n",
    "    #save the model to a a HDF5 file \n",
    "    model.save('NN_binary_classification_Keras_e'+str(epoch)+'.h5')"
   ]
  },
  {
   "cell_type": "markdown",
   "metadata": {},
   "source": [
    "### Plot training histroy: loss vs epoch and accuracy vs epoch"
   ]
  },
  {
   "cell_type": "code",
   "execution_count": 121,
   "metadata": {},
   "outputs": [
    {
     "data": {
      "image/png": "[encoded data removed]",
      "text/plain": [
       "<Figure size 864x432 with 2 Axes>"
      ]
     },
     "metadata": {
      "needs_background": "light"
     },
     "output_type": "display_data"
    }
   ],
   "source": [
    "fig, ax = plt.subplots(1, 2, figsize=(12,6))\n",
    "ax[0].plot(np.arange(0,len(loss_train_list)), loss_train_list, '-b', label='training loss')\n",
    "ax[0].plot(np.arange(0,len(loss_val_list)), loss_val_list, '-r', label='validation loss')\n",
    "ax[0].set_xlabel('epoch',fontsize=16)\n",
    "ax[0].legend(fontsize=16)\n",
    "ax[0].grid(True)\n",
    "ax[1].plot(np.arange(0,len(acc_train_list)), acc_train_list, '-b', label='training accuracy')\n",
    "ax[1].plot(np.arange(0,len(acc_val_list)), acc_val_list, '-r', label='validation accuracy')\n",
    "ax[1].set_xlabel('epoch',fontsize=16)\n",
    "ax[1].legend(fontsize=16)\n",
    "ax[1].grid(True)"
   ]
  },
  {
   "cell_type": "markdown",
   "metadata": {},
   "source": [
    "### you may train the model for more than 10 epochs and see if you can get a better result"
   ]
  },
  {
   "cell_type": "code",
   "execution_count": 122,
   "metadata": {},
   "outputs": [
    {
     "name": "stdout",
     "output_type": "stream",
     "text": [
      "epoch 0\n",
      "Train on 201648 samples, validate on 12000 samples\n",
      "201648/201648 [==============================] - 36s 178us/sample - loss: 0.5180 - accuracy: 0.7487 - val_loss: 0.8038 - val_accuracy: 0.5438\n",
      "INFO:tensorflow:Assets written to: NN_binary_classification_Keras_e0.h6\\assets\n",
      "epoch 1\n",
      "Train on 201648 samples, validate on 12000 samples\n",
      "201648/201648 [==============================] - 32s 161us/sample - loss: 0.5157 - accuracy: 0.7507 - val_loss: 0.5061 - val_accuracy: 0.8248\n",
      "INFO:tensorflow:Assets written to: NN_binary_classification_Keras_e1.h6\\assets\n",
      "epoch 2\n",
      "Train on 201648 samples, validate on 12000 samples\n",
      "201648/201648 [==============================] - 35s 172us/sample - loss: 0.5149 - accuracy: 0.7514 - val_loss: 0.5709 - val_accuracy: 0.7660\n",
      "INFO:tensorflow:Assets written to: NN_binary_classification_Keras_e2.h6\\assets\n",
      "epoch 3\n",
      "Train on 201648 samples, validate on 12000 samples\n",
      "201648/201648 [==============================] - 35s 173us/sample - loss: 0.5131 - accuracy: 0.7526 - val_loss: 0.4594 - val_accuracy: 0.8381\n",
      "INFO:tensorflow:Assets written to: NN_binary_classification_Keras_e3.h6\\assets\n",
      "epoch 4\n",
      "Train on 201648 samples, validate on 12000 samples\n",
      "201648/201648 [==============================] - 33s 165us/sample - loss: 0.5129 - accuracy: 0.7532 - val_loss: 0.6729 - val_accuracy: 0.6995\n",
      "INFO:tensorflow:Assets written to: NN_binary_classification_Keras_e4.h6\\assets\n",
      "epoch 5\n",
      "Train on 201648 samples, validate on 12000 samples\n",
      "201648/201648 [==============================] - 22s 107us/sample - loss: 0.5108 - accuracy: 0.7543 - val_loss: 0.4013 - val_accuracy: 0.8748\n",
      "INFO:tensorflow:Assets written to: NN_binary_classification_Keras_e5.h6\\assets\n",
      "epoch 6\n",
      "Train on 201648 samples, validate on 12000 samples\n",
      "201648/201648 [==============================] - 29s 144us/sample - loss: 0.5109 - accuracy: 0.7552 - val_loss: 0.4766 - val_accuracy: 0.8186\n",
      "INFO:tensorflow:Assets written to: NN_binary_classification_Keras_e6.h6\\assets\n",
      "epoch 7\n",
      "Train on 201648 samples, validate on 12000 samples\n",
      "201648/201648 [==============================] - 37s 182us/sample - loss: 0.5116 - accuracy: 0.7537 - val_loss: 0.4489 - val_accuracy: 0.8183\n",
      "INFO:tensorflow:Assets written to: NN_binary_classification_Keras_e7.h6\\assets\n",
      "epoch 8\n",
      "Train on 201648 samples, validate on 12000 samples\n",
      "201648/201648 [==============================] - 35s 176us/sample - loss: 0.5082 - accuracy: 0.7572 - val_loss: 0.5131 - val_accuracy: 0.7952\n",
      "INFO:tensorflow:Assets written to: NN_binary_classification_Keras_e8.h6\\assets\n",
      "epoch 9\n",
      "Train on 201648 samples, validate on 12000 samples\n",
      "201648/201648 [==============================] - 36s 177us/sample - loss: 0.5086 - accuracy: 0.7564 - val_loss: 0.4400 - val_accuracy: 0.8580\n",
      "INFO:tensorflow:Assets written to: NN_binary_classification_Keras_e9.h6\\assets\n",
      "epoch 10\n",
      "Train on 201648 samples, validate on 12000 samples\n",
      "201648/201648 [==============================] - 36s 180us/sample - loss: 0.5092 - accuracy: 0.7556 - val_loss: 0.5624 - val_accuracy: 0.7616\n",
      "INFO:tensorflow:Assets written to: NN_binary_classification_Keras_e10.h6\\assets\n",
      "epoch 11\n",
      "Train on 201648 samples, validate on 12000 samples\n",
      "201648/201648 [==============================] - 36s 178us/sample - loss: 0.5075 - accuracy: 0.7578 - val_loss: 0.5520 - val_accuracy: 0.7879\n",
      "INFO:tensorflow:Assets written to: NN_binary_classification_Keras_e11.h6\\assets\n",
      "epoch 12\n",
      "Train on 201648 samples, validate on 12000 samples\n",
      "201648/201648 [==============================] - 37s 184us/sample - loss: 0.5081 - accuracy: 0.7572 - val_loss: 0.3888 - val_accuracy: 0.8869\n",
      "INFO:tensorflow:Assets written to: NN_binary_classification_Keras_e12.h6\\assets\n",
      "epoch 13\n",
      "Train on 201648 samples, validate on 12000 samples\n",
      "201648/201648 [==============================] - 38s 188us/sample - loss: 0.5062 - accuracy: 0.7588 - val_loss: 0.4384 - val_accuracy: 0.8614\n",
      "INFO:tensorflow:Assets written to: NN_binary_classification_Keras_e13.h6\\assets\n",
      "epoch 14\n",
      "Train on 201648 samples, validate on 12000 samples\n",
      "201648/201648 [==============================] - 37s 185us/sample - loss: 0.5077 - accuracy: 0.7574 - val_loss: 0.8075 - val_accuracy: 0.5145\n",
      "INFO:tensorflow:Assets written to: NN_binary_classification_Keras_e14.h6\\assets\n",
      "epoch 15\n",
      "Train on 201648 samples, validate on 12000 samples\n",
      "201648/201648 [==============================] - 23s 114us/sample - loss: 0.5050 - accuracy: 0.7603 - val_loss: 0.4193 - val_accuracy: 0.8369\n",
      "INFO:tensorflow:Assets written to: NN_binary_classification_Keras_e15.h6\\assets\n",
      "epoch 16\n",
      "Train on 201648 samples, validate on 12000 samples\n",
      "201648/201648 [==============================] - 15s 73us/sample - loss: 0.5059 - accuracy: 0.7590 - val_loss: 0.4472 - val_accuracy: 0.8357\n",
      "INFO:tensorflow:Assets written to: NN_binary_classification_Keras_e16.h6\\assets\n",
      "epoch 17\n",
      "Train on 201648 samples, validate on 12000 samples\n",
      "201648/201648 [==============================] - 14s 68us/sample - loss: 0.5053 - accuracy: 0.7595 - val_loss: 0.4541 - val_accuracy: 0.8466\n",
      "INFO:tensorflow:Assets written to: NN_binary_classification_Keras_e17.h6\\assets\n",
      "epoch 18\n",
      "Train on 201648 samples, validate on 12000 samples\n",
      "201648/201648 [==============================] - 14s 69us/sample - loss: 0.5037 - accuracy: 0.7609 - val_loss: 0.4824 - val_accuracy: 0.7968\n",
      "INFO:tensorflow:Assets written to: NN_binary_classification_Keras_e18.h6\\assets\n",
      "epoch 19\n",
      "Train on 201648 samples, validate on 12000 samples\n",
      "201648/201648 [==============================] - 14s 70us/sample - loss: 0.5050 - accuracy: 0.7599 - val_loss: 0.6310 - val_accuracy: 0.7400\n",
      "INFO:tensorflow:Assets written to: NN_binary_classification_Keras_e19.h6\\assets\n"
     ]
    }
   ],
   "source": [
    "#optional\n",
    "for epoch in range(0, 20):   \n",
    "    print('epoch', epoch)\n",
    "    #set epochs=1\n",
    "    history=model.fit(X_train, Y_train, batch_size=64, epochs=1, validation_data=(X_val, Y_val))\n",
    "    #save the model to a a HDF5 file \n",
    "    model.save('NN_binary_classification_Keras_e'+str(epoch)+'.h6')"
   ]
  },
  {
   "cell_type": "code",
   "execution_count": 123,
   "metadata": {},
   "outputs": [],
   "source": [
    "# train the model with epoch = 20\n",
    "# the trainning accuracy & loss converges and validation loss & accuracy still fluctuate"
   ]
  },
  {
   "cell_type": "markdown",
   "metadata": {},
   "source": [
    "### after training, we load the best model from the harddrive and evaluate the model on the test set\n",
    "You may get a different result because of random initialization of network parameters"
   ]
  },
  {
   "cell_type": "code",
   "execution_count": 124,
   "metadata": {},
   "outputs": [],
   "source": [
    "from keras.models import load_model\n",
    "model = load_model('NN_binary_classification_Keras_e9.h5')"
   ]
  },
  {
   "cell_type": "code",
   "execution_count": 125,
   "metadata": {},
   "outputs": [
    {
     "name": "stdout",
     "output_type": "stream",
     "text": [
      "Test loss: 0.44995032725334166\n",
      "Test accuracy: 0.83646667\n"
     ]
    }
   ],
   "source": [
    "score = model.evaluate(X_test, Y_test, batch_size=64, verbose=0)\n",
    "print('Test loss:', score[0])\n",
    "print('Test accuracy:', score[1])\n",
    "# get accuracy from model.evaluate"
   ]
  },
  {
   "cell_type": "code",
   "execution_count": 126,
   "metadata": {},
   "outputs": [
    {
     "name": "stdout",
     "output_type": "stream",
     "text": [
      "Test accuracy (weighted): 0.74733555\n",
      "confusion_test: [[23778  4179]\n",
      " [  727  1316]]\n"
     ]
    }
   ],
   "source": [
    "# weighted accuracy is the 'real' performance of the model\n",
    "score = test_acc(model, X_test, Y_test)\n",
    "print('Test accuracy (weighted):', score[0])\n",
    "print('confusion_test:', score[1])"
   ]
  },
  {
   "cell_type": "code",
   "execution_count": 127,
   "metadata": {},
   "outputs": [],
   "source": [
    "Yp_test=model.predict(X_test, batch_size=64)"
   ]
  },
  {
   "cell_type": "code",
   "execution_count": 128,
   "metadata": {},
   "outputs": [
    {
     "data": {
      "text/plain": [
       "(30000, 1)"
      ]
     },
     "execution_count": 128,
     "metadata": {},
     "output_type": "execute_result"
    }
   ],
   "source": [
    "Yp_test.shape"
   ]
  },
  {
   "cell_type": "code",
   "execution_count": 129,
   "metadata": {},
   "outputs": [
    {
     "data": {
      "text/plain": [
       "array([[0.24561204],\n",
       "       [0.23563087],\n",
       "       [0.2285953 ],\n",
       "       ...,\n",
       "       [0.14110298],\n",
       "       [0.32592496],\n",
       "       [0.09904422]], dtype=float32)"
      ]
     },
     "execution_count": 129,
     "metadata": {},
     "output_type": "execute_result"
    }
   ],
   "source": [
    "Yp_test"
   ]
  },
  {
   "cell_type": "code",
   "execution_count": null,
   "metadata": {},
   "outputs": [],
   "source": []
  }
 ],
 "metadata": {
  "kernelspec": {
   "display_name": "Python 3",
   "language": "python",
   "name": "python3"
  },
  "language_info": {
   "codemirror_mode": {
    "name": "ipython",
    "version": 3
   },
   "file_extension": ".py",
   "mimetype": "text/x-python",
   "name": "python",
   "nbconvert_exporter": "python",
   "pygments_lexer": "ipython3",
   "version": "3.7.4"
  }
 },
 "nbformat": 4,
 "nbformat_minor": 2
}
