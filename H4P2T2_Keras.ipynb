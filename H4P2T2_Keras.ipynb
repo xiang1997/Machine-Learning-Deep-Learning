{
 "cells": [
  {
   "cell_type": "markdown",
   "metadata": {},
   "source": [
    "# Regression using a Neural Network (Keras)\n",
    "The data is in 'housing.csv'. <br>\n",
    "Each row in the table is a data point:  the features of an area in California <br>\n",
    "Clearly, the `median_house_value` is correlated with some other features, e.g., `median_income` and location <br>\n",
    "Thus, we can estimate `median_house_value` = regression_model(`median_income`, `longitude`, `latitude`, ...) <br>\n",
    "The taks is to build an MLP regressor to predict `median_house_value` using the other features"
   ]
  },
  {
   "cell_type": "code",
   "execution_count": 47,
   "metadata": {
    "colab": {},
    "colab_type": "code",
    "id": "7FmGucnl4Uk8"
   },
   "outputs": [],
   "source": [
    "import tensorflow.keras as keras\n",
    "import sys\n",
    "sys.modules['keras'] = keras\n",
    "from keras.models import Sequential\n",
    "from keras.layers import Dense\n",
    "from keras.optimizers import SGD, Adam\n",
    "import matplotlib.pyplot as plt\n",
    "from mpl_toolkits import mplot3d\n",
    "import numpy as np\n",
    "import pandas as pd"
   ]
  },
  {
   "cell_type": "code",
   "execution_count": 48,
   "metadata": {},
   "outputs": [
    {
     "data": {
      "text/html": [
       "<div>\n",
       "<style scoped>\n",
       "    .dataframe tbody tr th:only-of-type {\n",
       "        vertical-align: middle;\n",
       "    }\n",
       "\n",
       "    .dataframe tbody tr th {\n",
       "        vertical-align: top;\n",
       "    }\n",
       "\n",
       "    .dataframe thead th {\n",
       "        text-align: right;\n",
       "    }\n",
       "</style>\n",
       "<table border=\"1\" class=\"dataframe\">\n",
       "  <thead>\n",
       "    <tr style=\"text-align: right;\">\n",
       "      <th></th>\n",
       "      <th>longitude</th>\n",
       "      <th>latitude</th>\n",
       "      <th>housing_median_age</th>\n",
       "      <th>total_rooms</th>\n",
       "      <th>total_bedrooms</th>\n",
       "      <th>population</th>\n",
       "      <th>households</th>\n",
       "      <th>median_income</th>\n",
       "      <th>median_house_value</th>\n",
       "      <th>ocean_proximity</th>\n",
       "    </tr>\n",
       "  </thead>\n",
       "  <tbody>\n",
       "    <tr>\n",
       "      <td>0</td>\n",
       "      <td>-122.23</td>\n",
       "      <td>37.88</td>\n",
       "      <td>41.0</td>\n",
       "      <td>880.0</td>\n",
       "      <td>129.0</td>\n",
       "      <td>322.0</td>\n",
       "      <td>126.0</td>\n",
       "      <td>8.3252</td>\n",
       "      <td>452600.0</td>\n",
       "      <td>NEAR BAY</td>\n",
       "    </tr>\n",
       "    <tr>\n",
       "      <td>1</td>\n",
       "      <td>-122.22</td>\n",
       "      <td>37.86</td>\n",
       "      <td>21.0</td>\n",
       "      <td>7099.0</td>\n",
       "      <td>1106.0</td>\n",
       "      <td>2401.0</td>\n",
       "      <td>1138.0</td>\n",
       "      <td>8.3014</td>\n",
       "      <td>358500.0</td>\n",
       "      <td>NEAR BAY</td>\n",
       "    </tr>\n",
       "    <tr>\n",
       "      <td>2</td>\n",
       "      <td>-122.24</td>\n",
       "      <td>37.85</td>\n",
       "      <td>52.0</td>\n",
       "      <td>1467.0</td>\n",
       "      <td>190.0</td>\n",
       "      <td>496.0</td>\n",
       "      <td>177.0</td>\n",
       "      <td>7.2574</td>\n",
       "      <td>352100.0</td>\n",
       "      <td>NEAR BAY</td>\n",
       "    </tr>\n",
       "    <tr>\n",
       "      <td>3</td>\n",
       "      <td>-122.25</td>\n",
       "      <td>37.85</td>\n",
       "      <td>52.0</td>\n",
       "      <td>1274.0</td>\n",
       "      <td>235.0</td>\n",
       "      <td>558.0</td>\n",
       "      <td>219.0</td>\n",
       "      <td>5.6431</td>\n",
       "      <td>341300.0</td>\n",
       "      <td>NEAR BAY</td>\n",
       "    </tr>\n",
       "    <tr>\n",
       "      <td>4</td>\n",
       "      <td>-122.25</td>\n",
       "      <td>37.85</td>\n",
       "      <td>52.0</td>\n",
       "      <td>1627.0</td>\n",
       "      <td>280.0</td>\n",
       "      <td>565.0</td>\n",
       "      <td>259.0</td>\n",
       "      <td>3.8462</td>\n",
       "      <td>342200.0</td>\n",
       "      <td>NEAR BAY</td>\n",
       "    </tr>\n",
       "  </tbody>\n",
       "</table>\n",
       "</div>"
      ],
      "text/plain": [
       "   longitude  latitude  housing_median_age  total_rooms  total_bedrooms  \\\n",
       "0    -122.23     37.88                41.0        880.0           129.0   \n",
       "1    -122.22     37.86                21.0       7099.0          1106.0   \n",
       "2    -122.24     37.85                52.0       1467.0           190.0   \n",
       "3    -122.25     37.85                52.0       1274.0           235.0   \n",
       "4    -122.25     37.85                52.0       1627.0           280.0   \n",
       "\n",
       "   population  households  median_income  median_house_value ocean_proximity  \n",
       "0       322.0       126.0         8.3252            452600.0        NEAR BAY  \n",
       "1      2401.0      1138.0         8.3014            358500.0        NEAR BAY  \n",
       "2       496.0       177.0         7.2574            352100.0        NEAR BAY  \n",
       "3       558.0       219.0         5.6431            341300.0        NEAR BAY  \n",
       "4       565.0       259.0         3.8462            342200.0        NEAR BAY  "
      ]
     },
     "execution_count": 48,
     "metadata": {},
     "output_type": "execute_result"
    }
   ],
   "source": [
    "housing = pd.read_csv(\"housing.csv\")\n",
    "housing.head()"
   ]
  },
  {
   "cell_type": "code",
   "execution_count": 49,
   "metadata": {},
   "outputs": [
    {
     "data": {
      "text/plain": [
       "(20640, 10)"
      ]
     },
     "execution_count": 49,
     "metadata": {},
     "output_type": "execute_result"
    }
   ],
   "source": [
    "housing.shape"
   ]
  },
  {
   "cell_type": "markdown",
   "metadata": {},
   "source": [
    "### Data pre-processing: remove NaN"
   ]
  },
  {
   "cell_type": "code",
   "execution_count": 50,
   "metadata": {},
   "outputs": [
    {
     "data": {
      "text/plain": [
       "longitude               0\n",
       "latitude                0\n",
       "housing_median_age      0\n",
       "total_rooms             0\n",
       "total_bedrooms        207\n",
       "population              0\n",
       "households              0\n",
       "median_income           0\n",
       "median_house_value      0\n",
       "ocean_proximity         0\n",
       "dtype: int64"
      ]
     },
     "execution_count": 50,
     "metadata": {},
     "output_type": "execute_result"
    }
   ],
   "source": [
    "housing.isnull().sum()"
   ]
  },
  {
   "cell_type": "code",
   "execution_count": 51,
   "metadata": {},
   "outputs": [
    {
     "data": {
      "text/plain": [
       "longitude             0\n",
       "latitude              0\n",
       "housing_median_age    0\n",
       "total_rooms           0\n",
       "total_bedrooms        0\n",
       "population            0\n",
       "households            0\n",
       "median_income         0\n",
       "median_house_value    0\n",
       "ocean_proximity       0\n",
       "dtype: int64"
      ]
     },
     "execution_count": 51,
     "metadata": {},
     "output_type": "execute_result"
    }
   ],
   "source": [
    "# there are 207 NaN in the column 'total_bedrooms', remove them\n",
    "# check housing again using housing.isnull().sum()\n",
    "housing['total_bedrooms'].fillna((housing['total_bedrooms'].mean()), inplace=True)\n",
    "housing.isnull().sum()"
   ]
  },
  {
   "cell_type": "markdown",
   "metadata": {},
   "source": [
    "### Data pre-processing: Convert categorical data to numerical data - \"ocean_proximity\""
   ]
  },
  {
   "cell_type": "code",
   "execution_count": 52,
   "metadata": {
    "colab": {
     "base_uri": "https://localhost:8080/",
     "height": 130
    },
    "colab_type": "code",
    "id": "RXn7GRuM4vgm",
    "outputId": "ebd6f495-12a9-4b2f-8dca-ce694cc5696a",
    "scrolled": true
   },
   "outputs": [
    {
     "data": {
      "text/plain": [
       "<1H OCEAN     9136\n",
       "INLAND        6551\n",
       "NEAR OCEAN    2658\n",
       "NEAR BAY      2290\n",
       "ISLAND           5\n",
       "Name: ocean_proximity, dtype: int64"
      ]
     },
     "execution_count": 52,
     "metadata": {},
     "output_type": "execute_result"
    }
   ],
   "source": [
    "housing[\"ocean_proximity\"].value_counts()"
   ]
  },
  {
   "cell_type": "code",
   "execution_count": 53,
   "metadata": {},
   "outputs": [
    {
     "data": {
      "text/html": [
       "<div>\n",
       "<style scoped>\n",
       "    .dataframe tbody tr th:only-of-type {\n",
       "        vertical-align: middle;\n",
       "    }\n",
       "\n",
       "    .dataframe tbody tr th {\n",
       "        vertical-align: top;\n",
       "    }\n",
       "\n",
       "    .dataframe thead th {\n",
       "        text-align: right;\n",
       "    }\n",
       "</style>\n",
       "<table border=\"1\" class=\"dataframe\">\n",
       "  <thead>\n",
       "    <tr style=\"text-align: right;\">\n",
       "      <th></th>\n",
       "      <th>longitude</th>\n",
       "      <th>latitude</th>\n",
       "      <th>housing_median_age</th>\n",
       "      <th>total_rooms</th>\n",
       "      <th>total_bedrooms</th>\n",
       "      <th>population</th>\n",
       "      <th>households</th>\n",
       "      <th>median_income</th>\n",
       "      <th>median_house_value</th>\n",
       "      <th>ocean_proximity_&lt;1H OCEAN</th>\n",
       "      <th>ocean_proximity_INLAND</th>\n",
       "      <th>ocean_proximity_ISLAND</th>\n",
       "      <th>ocean_proximity_NEAR BAY</th>\n",
       "      <th>ocean_proximity_NEAR OCEAN</th>\n",
       "    </tr>\n",
       "  </thead>\n",
       "  <tbody>\n",
       "    <tr>\n",
       "      <td>0</td>\n",
       "      <td>-122.23</td>\n",
       "      <td>37.88</td>\n",
       "      <td>41.0</td>\n",
       "      <td>880.0</td>\n",
       "      <td>129.0</td>\n",
       "      <td>322.0</td>\n",
       "      <td>126.0</td>\n",
       "      <td>8.3252</td>\n",
       "      <td>452600.0</td>\n",
       "      <td>0</td>\n",
       "      <td>0</td>\n",
       "      <td>0</td>\n",
       "      <td>1</td>\n",
       "      <td>0</td>\n",
       "    </tr>\n",
       "    <tr>\n",
       "      <td>1</td>\n",
       "      <td>-122.22</td>\n",
       "      <td>37.86</td>\n",
       "      <td>21.0</td>\n",
       "      <td>7099.0</td>\n",
       "      <td>1106.0</td>\n",
       "      <td>2401.0</td>\n",
       "      <td>1138.0</td>\n",
       "      <td>8.3014</td>\n",
       "      <td>358500.0</td>\n",
       "      <td>0</td>\n",
       "      <td>0</td>\n",
       "      <td>0</td>\n",
       "      <td>1</td>\n",
       "      <td>0</td>\n",
       "    </tr>\n",
       "    <tr>\n",
       "      <td>2</td>\n",
       "      <td>-122.24</td>\n",
       "      <td>37.85</td>\n",
       "      <td>52.0</td>\n",
       "      <td>1467.0</td>\n",
       "      <td>190.0</td>\n",
       "      <td>496.0</td>\n",
       "      <td>177.0</td>\n",
       "      <td>7.2574</td>\n",
       "      <td>352100.0</td>\n",
       "      <td>0</td>\n",
       "      <td>0</td>\n",
       "      <td>0</td>\n",
       "      <td>1</td>\n",
       "      <td>0</td>\n",
       "    </tr>\n",
       "    <tr>\n",
       "      <td>3</td>\n",
       "      <td>-122.25</td>\n",
       "      <td>37.85</td>\n",
       "      <td>52.0</td>\n",
       "      <td>1274.0</td>\n",
       "      <td>235.0</td>\n",
       "      <td>558.0</td>\n",
       "      <td>219.0</td>\n",
       "      <td>5.6431</td>\n",
       "      <td>341300.0</td>\n",
       "      <td>0</td>\n",
       "      <td>0</td>\n",
       "      <td>0</td>\n",
       "      <td>1</td>\n",
       "      <td>0</td>\n",
       "    </tr>\n",
       "    <tr>\n",
       "      <td>4</td>\n",
       "      <td>-122.25</td>\n",
       "      <td>37.85</td>\n",
       "      <td>52.0</td>\n",
       "      <td>1627.0</td>\n",
       "      <td>280.0</td>\n",
       "      <td>565.0</td>\n",
       "      <td>259.0</td>\n",
       "      <td>3.8462</td>\n",
       "      <td>342200.0</td>\n",
       "      <td>0</td>\n",
       "      <td>0</td>\n",
       "      <td>0</td>\n",
       "      <td>1</td>\n",
       "      <td>0</td>\n",
       "    </tr>\n",
       "  </tbody>\n",
       "</table>\n",
       "</div>"
      ],
      "text/plain": [
       "   longitude  latitude  housing_median_age  total_rooms  total_bedrooms  \\\n",
       "0    -122.23     37.88                41.0        880.0           129.0   \n",
       "1    -122.22     37.86                21.0       7099.0          1106.0   \n",
       "2    -122.24     37.85                52.0       1467.0           190.0   \n",
       "3    -122.25     37.85                52.0       1274.0           235.0   \n",
       "4    -122.25     37.85                52.0       1627.0           280.0   \n",
       "\n",
       "   population  households  median_income  median_house_value  \\\n",
       "0       322.0       126.0         8.3252            452600.0   \n",
       "1      2401.0      1138.0         8.3014            358500.0   \n",
       "2       496.0       177.0         7.2574            352100.0   \n",
       "3       558.0       219.0         5.6431            341300.0   \n",
       "4       565.0       259.0         3.8462            342200.0   \n",
       "\n",
       "   ocean_proximity_<1H OCEAN  ocean_proximity_INLAND  ocean_proximity_ISLAND  \\\n",
       "0                          0                       0                       0   \n",
       "1                          0                       0                       0   \n",
       "2                          0                       0                       0   \n",
       "3                          0                       0                       0   \n",
       "4                          0                       0                       0   \n",
       "\n",
       "   ocean_proximity_NEAR BAY  ocean_proximity_NEAR OCEAN  \n",
       "0                         1                           0  \n",
       "1                         1                           0  \n",
       "2                         1                           0  \n",
       "3                         1                           0  \n",
       "4                         1                           0  "
      ]
     },
     "execution_count": 53,
     "metadata": {},
     "output_type": "execute_result"
    }
   ],
   "source": [
    "#We can use one-hot encoding method by calling pd.get_dummies\n",
    "categorical_columns=['ocean_proximity'] # must be a list\n",
    "housing = pd.get_dummies(housing, columns=categorical_columns)\n",
    "housing.head()"
   ]
  },
  {
   "cell_type": "markdown",
   "metadata": {},
   "source": [
    "### Visualize the data"
   ]
  },
  {
   "cell_type": "code",
   "execution_count": 54,
   "metadata": {},
   "outputs": [
    {
     "data": {
      "text/plain": [
       "Text(0.5, 1.0, 'median_income')"
      ]
     },
     "execution_count": 54,
     "metadata": {},
     "output_type": "execute_result"
    },
    {
     "data": {
      "image/png": "[encoded data removed]",
      "text/plain": [
       "<Figure size 720x504 with 4 Axes>"
      ]
     },
     "metadata": {
      "needs_background": "light"
     },
     "output_type": "display_data"
    }
   ],
   "source": [
    "from skimage.io import imread\n",
    "california_img = imread('california.png')\n",
    "x1 = min(housing[\"longitude\"].values)\n",
    "x2 = max(housing[\"longitude\"].values)\n",
    "y1 = min(housing[\"latitude\"].values)\n",
    "y2 = max(housing[\"latitude\"].values)\n",
    "#---------------------------------------------\n",
    "# the parameter c refers to color\n",
    "# thus, median_house_value is color-coded in the left plot\n",
    "fig, ax =plt.subplots(1,2)\n",
    "housing.plot(ax=ax[0], kind=\"scatter\", x=\"longitude\", y=\"latitude\",\n",
    "             s=housing['population']/100, label=\"population\",\n",
    "             c=\"median_house_value\", cmap=plt.get_cmap(\"jet\"),\n",
    "             colorbar=True, alpha=0.4, figsize=(10,7))\n",
    "#---------------------------------------------\n",
    "# the parameter c refers to color\n",
    "# thus, median_income is color-coded in the right plot\n",
    "ax[0].imshow(california_img,extent=[x1,x2,y1,y2])\n",
    "ax[0].set_title('median_house_value')\n",
    "housing.plot(ax=ax[1], kind=\"scatter\", x=\"longitude\", y=\"latitude\",\n",
    "             s=housing['population']/100, label=\"population\",\n",
    "             c=\"median_income\", cmap=plt.get_cmap(\"jet\"),\n",
    "             colorbar=True, alpha=0.4, figsize=(10,7))\n",
    "ax[1].imshow(california_img,extent=[x1,x2,y1,y2])\n",
    "ax[1].set_title('median_income')"
   ]
  },
  {
   "cell_type": "markdown",
   "metadata": {},
   "source": [
    "### Prepare the Training and Testing Datasets"
   ]
  },
  {
   "cell_type": "code",
   "execution_count": 55,
   "metadata": {},
   "outputs": [
    {
     "data": {
      "text/html": [
       "<div>\n",
       "<style scoped>\n",
       "    .dataframe tbody tr th:only-of-type {\n",
       "        vertical-align: middle;\n",
       "    }\n",
       "\n",
       "    .dataframe tbody tr th {\n",
       "        vertical-align: top;\n",
       "    }\n",
       "\n",
       "    .dataframe thead th {\n",
       "        text-align: right;\n",
       "    }\n",
       "</style>\n",
       "<table border=\"1\" class=\"dataframe\">\n",
       "  <thead>\n",
       "    <tr style=\"text-align: right;\">\n",
       "      <th></th>\n",
       "      <th>longitude</th>\n",
       "      <th>latitude</th>\n",
       "      <th>housing_median_age</th>\n",
       "      <th>total_rooms</th>\n",
       "      <th>total_bedrooms</th>\n",
       "      <th>population</th>\n",
       "      <th>households</th>\n",
       "      <th>median_income</th>\n",
       "      <th>ocean_proximity_&lt;1H OCEAN</th>\n",
       "      <th>ocean_proximity_INLAND</th>\n",
       "      <th>ocean_proximity_ISLAND</th>\n",
       "      <th>ocean_proximity_NEAR BAY</th>\n",
       "      <th>ocean_proximity_NEAR OCEAN</th>\n",
       "    </tr>\n",
       "  </thead>\n",
       "  <tbody>\n",
       "    <tr>\n",
       "      <td>0</td>\n",
       "      <td>-122.23</td>\n",
       "      <td>37.88</td>\n",
       "      <td>41.0</td>\n",
       "      <td>880.0</td>\n",
       "      <td>129.0</td>\n",
       "      <td>322.0</td>\n",
       "      <td>126.0</td>\n",
       "      <td>8.3252</td>\n",
       "      <td>0</td>\n",
       "      <td>0</td>\n",
       "      <td>0</td>\n",
       "      <td>1</td>\n",
       "      <td>0</td>\n",
       "    </tr>\n",
       "    <tr>\n",
       "      <td>1</td>\n",
       "      <td>-122.22</td>\n",
       "      <td>37.86</td>\n",
       "      <td>21.0</td>\n",
       "      <td>7099.0</td>\n",
       "      <td>1106.0</td>\n",
       "      <td>2401.0</td>\n",
       "      <td>1138.0</td>\n",
       "      <td>8.3014</td>\n",
       "      <td>0</td>\n",
       "      <td>0</td>\n",
       "      <td>0</td>\n",
       "      <td>1</td>\n",
       "      <td>0</td>\n",
       "    </tr>\n",
       "    <tr>\n",
       "      <td>2</td>\n",
       "      <td>-122.24</td>\n",
       "      <td>37.85</td>\n",
       "      <td>52.0</td>\n",
       "      <td>1467.0</td>\n",
       "      <td>190.0</td>\n",
       "      <td>496.0</td>\n",
       "      <td>177.0</td>\n",
       "      <td>7.2574</td>\n",
       "      <td>0</td>\n",
       "      <td>0</td>\n",
       "      <td>0</td>\n",
       "      <td>1</td>\n",
       "      <td>0</td>\n",
       "    </tr>\n",
       "    <tr>\n",
       "      <td>3</td>\n",
       "      <td>-122.25</td>\n",
       "      <td>37.85</td>\n",
       "      <td>52.0</td>\n",
       "      <td>1274.0</td>\n",
       "      <td>235.0</td>\n",
       "      <td>558.0</td>\n",
       "      <td>219.0</td>\n",
       "      <td>5.6431</td>\n",
       "      <td>0</td>\n",
       "      <td>0</td>\n",
       "      <td>0</td>\n",
       "      <td>1</td>\n",
       "      <td>0</td>\n",
       "    </tr>\n",
       "    <tr>\n",
       "      <td>4</td>\n",
       "      <td>-122.25</td>\n",
       "      <td>37.85</td>\n",
       "      <td>52.0</td>\n",
       "      <td>1627.0</td>\n",
       "      <td>280.0</td>\n",
       "      <td>565.0</td>\n",
       "      <td>259.0</td>\n",
       "      <td>3.8462</td>\n",
       "      <td>0</td>\n",
       "      <td>0</td>\n",
       "      <td>0</td>\n",
       "      <td>1</td>\n",
       "      <td>0</td>\n",
       "    </tr>\n",
       "  </tbody>\n",
       "</table>\n",
       "</div>"
      ],
      "text/plain": [
       "   longitude  latitude  housing_median_age  total_rooms  total_bedrooms  \\\n",
       "0    -122.23     37.88                41.0        880.0           129.0   \n",
       "1    -122.22     37.86                21.0       7099.0          1106.0   \n",
       "2    -122.24     37.85                52.0       1467.0           190.0   \n",
       "3    -122.25     37.85                52.0       1274.0           235.0   \n",
       "4    -122.25     37.85                52.0       1627.0           280.0   \n",
       "\n",
       "   population  households  median_income  ocean_proximity_<1H OCEAN  \\\n",
       "0       322.0       126.0         8.3252                          0   \n",
       "1      2401.0      1138.0         8.3014                          0   \n",
       "2       496.0       177.0         7.2574                          0   \n",
       "3       558.0       219.0         5.6431                          0   \n",
       "4       565.0       259.0         3.8462                          0   \n",
       "\n",
       "   ocean_proximity_INLAND  ocean_proximity_ISLAND  ocean_proximity_NEAR BAY  \\\n",
       "0                       0                       0                         1   \n",
       "1                       0                       0                         1   \n",
       "2                       0                       0                         1   \n",
       "3                       0                       0                         1   \n",
       "4                       0                       0                         1   \n",
       "\n",
       "   ocean_proximity_NEAR OCEAN  \n",
       "0                           0  \n",
       "1                           0  \n",
       "2                           0  \n",
       "3                           0  \n",
       "4                           0  "
      ]
     },
     "execution_count": 55,
     "metadata": {},
     "output_type": "execute_result"
    }
   ],
   "source": [
    "X=housing.drop(['median_house_value'], axis=1)\n",
    "X.head()"
   ]
  },
  {
   "cell_type": "code",
   "execution_count": 56,
   "metadata": {},
   "outputs": [
    {
     "data": {
      "text/plain": [
       "0    452600.0\n",
       "1    358500.0\n",
       "2    352100.0\n",
       "3    341300.0\n",
       "4    342200.0\n",
       "Name: median_house_value, dtype: float64"
      ]
     },
     "execution_count": 56,
     "metadata": {},
     "output_type": "execute_result"
    }
   ],
   "source": [
    "Y=housing['median_house_value']\n",
    "Y.head()"
   ]
  },
  {
   "cell_type": "code",
   "execution_count": 57,
   "metadata": {},
   "outputs": [],
   "source": [
    "# convert pandas dataframe/series to numpy array\n",
    "# sklearn functions may not work well with pandas data types\n",
    "X_columns=X.columns #store the column names\n",
    "X=X.values.astype('float32')\n",
    "Y=Y.values.astype('float32')"
   ]
  },
  {
   "cell_type": "markdown",
   "metadata": {},
   "source": [
    "### trainnig, validation, testing split"
   ]
  },
  {
   "cell_type": "code",
   "execution_count": 58,
   "metadata": {},
   "outputs": [
    {
     "name": "stdout",
     "output_type": "stream",
     "text": [
      "train: (14860, 13) (14860,)\n",
      "validation: (1652, 13) (1652,)\n",
      "test: (4128, 13) (4128,)\n"
     ]
    }
   ],
   "source": [
    "#trainnig, validation, testing split\n",
    "from sklearn.model_selection import train_test_split\n",
    "X_train, X_test, Y_train, Y_test = train_test_split(X, Y, test_size=0.2, random_state=0)\n",
    "#split X_train and Y_train into a 'pure' training set and a validation set\n",
    "X_train, X_val, Y_train, Y_val = train_test_split(X_train, Y_train, test_size=0.1, random_state=0)\n",
    "print('train:', X_train.shape, Y_train.shape)\n",
    "print('validation:', X_val.shape, Y_val.shape)\n",
    "print('test:', X_test.shape, Y_test.shape)"
   ]
  },
  {
   "cell_type": "code",
   "execution_count": 59,
   "metadata": {},
   "outputs": [],
   "source": [
    "#apply feature normalization to training, validation and test sets\n",
    "from sklearn.preprocessing import MinMaxScaler\n",
    "scalerX=MinMaxScaler()\n",
    "scalerX.fit(X_train) # think about why fit to X_train, not X ?\n",
    "X_train=scalerX.transform(X_train)\n",
    "X_val=scalerX.transform(X_val)\n",
    "X_test=scalerX.transform(X_test)"
   ]
  },
  {
   "cell_type": "code",
   "execution_count": 60,
   "metadata": {},
   "outputs": [
    {
     "data": {
      "text/plain": [
       "array([0.5786848 , 0.38044596, 0.19607843, 0.12570114, 0.13671634,\n",
       "       0.00983827, 0.02795593, 0.11055019, 0.        , 1.        ,\n",
       "       0.        , 0.        , 0.        ], dtype=float32)"
      ]
     },
     "execution_count": 60,
     "metadata": {},
     "output_type": "execute_result"
    }
   ],
   "source": [
    "X_train[0]"
   ]
  },
  {
   "cell_type": "code",
   "execution_count": 61,
   "metadata": {},
   "outputs": [],
   "source": [
    "#normalize the output to facilitate convergence\n",
    "Y_train_max=Y_train.max()\n",
    "Y_train/=Y_train_max\n",
    "Y_val/=Y_train_max\n",
    "Y_test/=Y_train_max"
   ]
  },
  {
   "cell_type": "code",
   "execution_count": null,
   "metadata": {},
   "outputs": [],
   "source": []
  },
  {
   "cell_type": "markdown",
   "metadata": {},
   "source": [
    "### use LinearRegression as the baseline model"
   ]
  },
  {
   "cell_type": "code",
   "execution_count": 62,
   "metadata": {},
   "outputs": [],
   "source": [
    "#step1:\n",
    "from sklearn.linear_model import LinearRegression\n",
    "linear_model = LinearRegression(fit_intercept=True)"
   ]
  },
  {
   "cell_type": "code",
   "execution_count": 63,
   "metadata": {},
   "outputs": [
    {
     "data": {
      "text/plain": [
       "LinearRegression(copy_X=True, fit_intercept=True, n_jobs=None, normalize=False)"
      ]
     },
     "execution_count": 63,
     "metadata": {},
     "output_type": "execute_result"
    }
   ],
   "source": [
    "#step2:\n",
    "linear_model.fit(X_train, Y_train)"
   ]
  },
  {
   "cell_type": "code",
   "execution_count": 64,
   "metadata": {},
   "outputs": [
    {
     "data": {
      "text/plain": [
       "array([-0.5266758 , -0.47057664,  0.11070029, -0.3135648 ,  0.8725257 ,\n",
       "       -2.8026886 ,  1.0090159 ,  1.130491  , -0.04725069, -0.12498099,\n",
       "        0.2653832 , -0.05613023, -0.0370255 ], dtype=float32)"
      ]
     },
     "execution_count": 64,
     "metadata": {},
     "output_type": "execute_result"
    }
   ],
   "source": [
    "linear_model.coef_"
   ]
  },
  {
   "cell_type": "code",
   "execution_count": 65,
   "metadata": {},
   "outputs": [
    {
     "data": {
      "text/plain": [
       "0.54965496"
      ]
     },
     "execution_count": 65,
     "metadata": {},
     "output_type": "execute_result"
    }
   ],
   "source": [
    "linear_model.intercept_"
   ]
  },
  {
   "cell_type": "code",
   "execution_count": 66,
   "metadata": {
    "scrolled": false
   },
   "outputs": [
    {
     "name": "stdout",
     "output_type": "stream",
     "text": [
      "Evaluate model on testing set\n",
      "MSE= 0.018863907\n",
      "MAE= 0.09931182\n",
      "MAPE= 0.28951442\n"
     ]
    },
    {
     "data": {
      "text/plain": [
       "Text(0, 0.5, 'Y_test_pred')"
      ]
     },
     "execution_count": 66,
     "metadata": {},
     "output_type": "execute_result"
    },
    {
     "data": {
      "image/png": "[encoded data removed]",
      "text/plain": [
       "<Figure size 432x288 with 1 Axes>"
      ]
     },
     "metadata": {
      "needs_background": "light"
     },
     "output_type": "display_data"
    }
   ],
   "source": [
    "#step3:\n",
    "Y_train_pred = linear_model.predict(X_train)\n",
    "Y_test_pred = linear_model.predict(X_test)\n",
    "print('Evaluate model on testing set')\n",
    "MSE = np.mean((Y_test - Y_test_pred)**2)\n",
    "MAE = np.mean(np.abs(Y_test - Y_test_pred))\n",
    "MAPE =  np.mean(np.abs(Y_test - Y_test_pred)/Y_test)\n",
    "print('MSE=', MSE)\n",
    "print('MAE=', MAE)\n",
    "print('MAPE=', MAPE)\n",
    "#step6: \n",
    "# the red line is the 45-degree line\n",
    "fig, ax = plt.subplots()\n",
    "ax.set_title('Y_test_pred vs Y_test')\n",
    "ax.plot(Y_test, Y_test_pred, '.')\n",
    "ymax=np.max([Y_test.max(), Y_test_pred.max()])\n",
    "ax.plot(np.linspace(0,ymax, 3), np.linspace(0, ymax, 3), '-r')\n",
    "ax.set_xlabel('Y_test')\n",
    "ax.set_ylabel('Y_test_pred')"
   ]
  },
  {
   "cell_type": "markdown",
   "metadata": {},
   "source": [
    "## Your work begins here\n",
    "see NN_nonlinear_regression_Keras.ipynb"
   ]
  },
  {
   "cell_type": "markdown",
   "metadata": {},
   "source": [
    "#### define the model"
   ]
  },
  {
   "cell_type": "code",
   "execution_count": 67,
   "metadata": {},
   "outputs": [
    {
     "name": "stdout",
     "output_type": "stream",
     "text": [
      "Model: \"sequential_3\"\n",
      "_________________________________________________________________\n",
      "Layer (type)                 Output Shape              Param #   \n",
      "=================================================================\n",
      "dense_9 (Dense)              (None, 16)                224       \n",
      "_________________________________________________________________\n",
      "dense_10 (Dense)             (None, 16)                272       \n",
      "_________________________________________________________________\n",
      "dense_11 (Dense)             (None, 1)                 17        \n",
      "=================================================================\n",
      "Total params: 513\n",
      "Trainable params: 513\n",
      "Non-trainable params: 0\n",
      "_________________________________________________________________\n"
     ]
    }
   ],
   "source": [
    "model = Sequential()\n",
    "model.add(Dense(units=16, activation='softplus', input_shape=(13,)))\n",
    "model.add(Dense(units=16, activation='softplus'))\n",
    "model.add(Dense(units=1, activation='linear'))\n",
    "model.compile(loss='mse', optimizer=SGD(lr=0.01, momentum=0.9))\n",
    "model.summary()"
   ]
  },
  {
   "cell_type": "markdown",
   "metadata": {},
   "source": [
    "#### Now, let's train the model for 100 epochs"
   ]
  },
  {
   "cell_type": "code",
   "execution_count": 68,
   "metadata": {},
   "outputs": [],
   "source": [
    "loss_train_list=[]\n",
    "loss_val_list=[]"
   ]
  },
  {
   "cell_type": "code",
   "execution_count": 69,
   "metadata": {
    "scrolled": false
   },
   "outputs": [
    {
     "name": "stdout",
     "output_type": "stream",
     "text": [
      "epoch 0\n",
      "Train on 14860 samples, validate on 1652 samples\n",
      "14860/14860 [==============================] - 4s 257us/sample - loss: 0.0323 - val_loss: 0.0228\n",
      "epoch 1\n",
      "Train on 14860 samples, validate on 1652 samples\n",
      "14860/14860 [==============================] - 4s 262us/sample - loss: 0.0235 - val_loss: 0.0259\n",
      "epoch 2\n",
      "Train on 14860 samples, validate on 1652 samples\n",
      "14860/14860 [==============================] - 4s 241us/sample - loss: 0.0224 - val_loss: 0.0222\n",
      "epoch 3\n",
      "Train on 14860 samples, validate on 1652 samples\n",
      "14860/14860 [==============================] - 4s 253us/sample - loss: 0.0221 - val_loss: 0.0217\n",
      "epoch 4\n",
      "Train on 14860 samples, validate on 1652 samples\n",
      "14860/14860 [==============================] - 4s 279us/sample - loss: 0.0218 - val_loss: 0.0219\n",
      "epoch 5\n",
      "Train on 14860 samples, validate on 1652 samples\n",
      "14860/14860 [==============================] - 4s 271us/sample - loss: 0.0213 - val_loss: 0.0217\n",
      "epoch 6\n",
      "Train on 14860 samples, validate on 1652 samples\n",
      "14860/14860 [==============================] - 4s 247us/sample - loss: 0.0211 - val_loss: 0.0230\n",
      "epoch 7\n",
      "Train on 14860 samples, validate on 1652 samples\n",
      "14860/14860 [==============================] - 3s 232us/sample - loss: 0.0213 - val_loss: 0.0241\n",
      "epoch 8\n",
      "Train on 14860 samples, validate on 1652 samples\n",
      "14860/14860 [==============================] - 4s 238us/sample - loss: 0.0208 - val_loss: 0.0257\n",
      "epoch 9\n",
      "Train on 14860 samples, validate on 1652 samples\n",
      "14860/14860 [==============================] - 3s 231us/sample - loss: 0.0205 - val_loss: 0.0217\n",
      "epoch 10\n",
      "Train on 14860 samples, validate on 1652 samples\n",
      "14860/14860 [==============================] - 3s 226us/sample - loss: 0.0206 - val_loss: 0.0241\n",
      "epoch 11\n",
      "Train on 14860 samples, validate on 1652 samples\n",
      "14860/14860 [==============================] - 3s 226us/sample - loss: 0.0204 - val_loss: 0.0217\n",
      "epoch 12\n",
      "Train on 14860 samples, validate on 1652 samples\n",
      "14860/14860 [==============================] - 3s 226us/sample - loss: 0.0202 - val_loss: 0.0224\n",
      "epoch 13\n",
      "Train on 14860 samples, validate on 1652 samples\n",
      "14860/14860 [==============================] - 3s 226us/sample - loss: 0.0202 - val_loss: 0.0209\n",
      "epoch 14\n",
      "Train on 14860 samples, validate on 1652 samples\n",
      "14860/14860 [==============================] - 3s 233us/sample - loss: 0.0201 - val_loss: 0.0223\n",
      "epoch 15\n",
      "Train on 14860 samples, validate on 1652 samples\n",
      "14860/14860 [==============================] - 3s 226us/sample - loss: 0.0201 - val_loss: 0.0208\n",
      "epoch 16\n",
      "Train on 14860 samples, validate on 1652 samples\n",
      "14860/14860 [==============================] - 3s 228us/sample - loss: 0.0199 - val_loss: 0.0221\n",
      "epoch 17\n",
      "Train on 14860 samples, validate on 1652 samples\n",
      "14860/14860 [==============================] - 3s 226us/sample - loss: 0.0199 - val_loss: 0.0220\n",
      "epoch 18\n",
      "Train on 14860 samples, validate on 1652 samples\n",
      "14860/14860 [==============================] - 3s 226us/sample - loss: 0.0196 - val_loss: 0.0204\n",
      "epoch 19\n",
      "Train on 14860 samples, validate on 1652 samples\n",
      "14860/14860 [==============================] - 3s 231us/sample - loss: 0.0196 - val_loss: 0.0225\n",
      "epoch 20\n",
      "Train on 14860 samples, validate on 1652 samples\n",
      "14860/14860 [==============================] - 3s 227us/sample - loss: 0.0195 - val_loss: 0.0206\n",
      "epoch 21\n",
      "Train on 14860 samples, validate on 1652 samples\n",
      "14860/14860 [==============================] - 3s 224us/sample - loss: 0.0196 - val_loss: 0.0226\n",
      "epoch 22\n",
      "Train on 14860 samples, validate on 1652 samples\n",
      "14860/14860 [==============================] - 3s 228us/sample - loss: 0.0193 - val_loss: 0.0199\n",
      "epoch 23\n",
      "Train on 14860 samples, validate on 1652 samples\n",
      "14860/14860 [==============================] - 3s 233us/sample - loss: 0.0195 - val_loss: 0.0200\n",
      "epoch 24\n",
      "Train on 14860 samples, validate on 1652 samples\n",
      "14860/14860 [==============================] - 3s 226us/sample - loss: 0.0191 - val_loss: 0.0199\n",
      "epoch 25\n",
      "Train on 14860 samples, validate on 1652 samples\n",
      "14860/14860 [==============================] - 3s 228us/sample - loss: 0.0194 - val_loss: 0.0198\n",
      "epoch 26\n",
      "Train on 14860 samples, validate on 1652 samples\n",
      "14860/14860 [==============================] - 3s 227us/sample - loss: 0.0191 - val_loss: 0.0199\n",
      "epoch 27\n",
      "Train on 14860 samples, validate on 1652 samples\n",
      "14860/14860 [==============================] - 3s 227us/sample - loss: 0.0192 - val_loss: 0.0224\n",
      "epoch 28\n",
      "Train on 14860 samples, validate on 1652 samples\n",
      "14860/14860 [==============================] - 3s 233us/sample - loss: 0.0191 - val_loss: 0.0210\n",
      "epoch 29\n",
      "Train on 14860 samples, validate on 1652 samples\n",
      "14860/14860 [==============================] - 3s 225us/sample - loss: 0.0191 - val_loss: 0.0197\n",
      "epoch 30\n",
      "Train on 14860 samples, validate on 1652 samples\n",
      "14860/14860 [==============================] - 3s 225us/sample - loss: 0.0188 - val_loss: 0.0200\n",
      "epoch 31\n",
      "Train on 14860 samples, validate on 1652 samples\n",
      "14860/14860 [==============================] - 3s 229us/sample - loss: 0.0187 - val_loss: 0.0196\n",
      "epoch 32\n",
      "Train on 14860 samples, validate on 1652 samples\n",
      "14860/14860 [==============================] - 3s 227us/sample - loss: 0.0188 - val_loss: 0.0195\n",
      "epoch 33\n",
      "Train on 14860 samples, validate on 1652 samples\n",
      "14860/14860 [==============================] - 3s 231us/sample - loss: 0.0188 - val_loss: 0.0209\n",
      "epoch 34\n",
      "Train on 14860 samples, validate on 1652 samples\n",
      "14860/14860 [==============================] - 3s 228us/sample - loss: 0.0188 - val_loss: 0.0194\n",
      "epoch 35\n",
      "Train on 14860 samples, validate on 1652 samples\n",
      "14860/14860 [==============================] - 3s 228us/sample - loss: 0.0187 - val_loss: 0.0196\n",
      "epoch 36\n",
      "Train on 14860 samples, validate on 1652 samples\n",
      "14860/14860 [==============================] - 3s 224us/sample - loss: 0.0187 - val_loss: 0.0203\n",
      "epoch 37\n",
      "Train on 14860 samples, validate on 1652 samples\n",
      "14860/14860 [==============================] - 3s 234us/sample - loss: 0.0187 - val_loss: 0.0195\n",
      "epoch 38\n",
      "Train on 14860 samples, validate on 1652 samples\n",
      "14860/14860 [==============================] - 3s 226us/sample - loss: 0.0187 - val_loss: 0.0192\n",
      "epoch 39\n",
      "Train on 14860 samples, validate on 1652 samples\n",
      "14860/14860 [==============================] - 3s 228us/sample - loss: 0.0186 - val_loss: 0.0193\n",
      "epoch 40\n",
      "Train on 14860 samples, validate on 1652 samples\n",
      "14860/14860 [==============================] - 3s 228us/sample - loss: 0.0184 - val_loss: 0.0205\n",
      "epoch 41\n",
      "Train on 14860 samples, validate on 1652 samples\n",
      "14860/14860 [==============================] - 3s 227us/sample - loss: 0.0185 - val_loss: 0.0196\n",
      "epoch 42\n",
      "Train on 14860 samples, validate on 1652 samples\n",
      "14860/14860 [==============================] - 3s 233us/sample - loss: 0.0185 - val_loss: 0.0192\n",
      "epoch 43\n",
      "Train on 14860 samples, validate on 1652 samples\n",
      "14860/14860 [==============================] - 3s 227us/sample - loss: 0.0184 - val_loss: 0.0193\n",
      "epoch 44\n",
      "Train on 14860 samples, validate on 1652 samples\n",
      "14860/14860 [==============================] - 4s 237us/sample - loss: 0.0185 - val_loss: 0.0194\n",
      "epoch 45\n",
      "Train on 14860 samples, validate on 1652 samples\n",
      "14860/14860 [==============================] - 3s 227us/sample - loss: 0.0183 - val_loss: 0.0193\n",
      "epoch 46\n",
      "Train on 14860 samples, validate on 1652 samples\n",
      "14860/14860 [==============================] - 3s 229us/sample - loss: 0.0183 - val_loss: 0.0197\n",
      "epoch 47\n",
      "Train on 14860 samples, validate on 1652 samples\n",
      "14860/14860 [==============================] - 3s 229us/sample - loss: 0.0184 - val_loss: 0.0210\n",
      "epoch 48\n",
      "Train on 14860 samples, validate on 1652 samples\n",
      "14860/14860 [==============================] - 3s 224us/sample - loss: 0.0183 - val_loss: 0.0197\n",
      "epoch 49\n",
      "Train on 14860 samples, validate on 1652 samples\n",
      "14860/14860 [==============================] - 3s 225us/sample - loss: 0.0182 - val_loss: 0.0192\n",
      "epoch 50\n",
      "Train on 14860 samples, validate on 1652 samples\n",
      "14860/14860 [==============================] - 3s 226us/sample - loss: 0.0182 - val_loss: 0.0189\n",
      "epoch 51\n",
      "Train on 14860 samples, validate on 1652 samples\n",
      "14860/14860 [==============================] - 3s 232us/sample - loss: 0.0181 - val_loss: 0.0192\n",
      "epoch 52\n",
      "Train on 14860 samples, validate on 1652 samples\n",
      "14860/14860 [==============================] - 3s 225us/sample - loss: 0.0181 - val_loss: 0.0187\n"
     ]
    },
    {
     "name": "stdout",
     "output_type": "stream",
     "text": [
      "epoch 53\n",
      "Train on 14860 samples, validate on 1652 samples\n",
      "14860/14860 [==============================] - 3s 223us/sample - loss: 0.0182 - val_loss: 0.0197\n",
      "epoch 54\n",
      "Train on 14860 samples, validate on 1652 samples\n",
      "14860/14860 [==============================] - 3s 224us/sample - loss: 0.0183 - val_loss: 0.0190\n",
      "epoch 55\n",
      "Train on 14860 samples, validate on 1652 samples\n",
      "14860/14860 [==============================] - 3s 224us/sample - loss: 0.0179 - val_loss: 0.0192\n",
      "epoch 56\n",
      "Train on 14860 samples, validate on 1652 samples\n",
      "14860/14860 [==============================] - 3s 229us/sample - loss: 0.0179 - val_loss: 0.0205\n",
      "epoch 57\n",
      "Train on 14860 samples, validate on 1652 samples\n",
      "14860/14860 [==============================] - 3s 226us/sample - loss: 0.0179 - val_loss: 0.0196\n",
      "epoch 58\n",
      "Train on 14860 samples, validate on 1652 samples\n",
      "14860/14860 [==============================] - 3s 224us/sample - loss: 0.0179 - val_loss: 0.0190\n",
      "epoch 59\n",
      "Train on 14860 samples, validate on 1652 samples\n",
      "14860/14860 [==============================] - 3s 223us/sample - loss: 0.0177 - val_loss: 0.0185\n",
      "epoch 60\n",
      "Train on 14860 samples, validate on 1652 samples\n",
      "14860/14860 [==============================] - 3s 225us/sample - loss: 0.0178 - val_loss: 0.0189\n",
      "epoch 61\n",
      "Train on 14860 samples, validate on 1652 samples\n",
      "14860/14860 [==============================] - 3s 229us/sample - loss: 0.0177 - val_loss: 0.0195\n",
      "epoch 62\n",
      "Train on 14860 samples, validate on 1652 samples\n",
      "14860/14860 [==============================] - 3s 224us/sample - loss: 0.0177 - val_loss: 0.0185\n",
      "epoch 63\n",
      "Train on 14860 samples, validate on 1652 samples\n",
      "14860/14860 [==============================] - 3s 225us/sample - loss: 0.0177 - val_loss: 0.0190\n",
      "epoch 64\n",
      "Train on 14860 samples, validate on 1652 samples\n",
      "14860/14860 [==============================] - 3s 223us/sample - loss: 0.0176 - val_loss: 0.0191\n",
      "epoch 65\n",
      "Train on 14860 samples, validate on 1652 samples\n",
      "14860/14860 [==============================] - 3s 229us/sample - loss: 0.0178 - val_loss: 0.0204\n",
      "epoch 66\n",
      "Train on 14860 samples, validate on 1652 samples\n",
      "14860/14860 [==============================] - 3s 225us/sample - loss: 0.0175 - val_loss: 0.0186\n",
      "epoch 67\n",
      "Train on 14860 samples, validate on 1652 samples\n",
      "14860/14860 [==============================] - 3s 223us/sample - loss: 0.0174 - val_loss: 0.0185\n",
      "epoch 68\n",
      "Train on 14860 samples, validate on 1652 samples\n",
      "14860/14860 [==============================] - 3s 224us/sample - loss: 0.0175 - val_loss: 0.0191\n",
      "epoch 69\n",
      "Train on 14860 samples, validate on 1652 samples\n",
      "14860/14860 [==============================] - 3s 225us/sample - loss: 0.0174 - val_loss: 0.0194\n",
      "epoch 70\n",
      "Train on 14860 samples, validate on 1652 samples\n",
      "14860/14860 [==============================] - 3s 231us/sample - loss: 0.0174 - val_loss: 0.0191\n",
      "epoch 71\n",
      "Train on 14860 samples, validate on 1652 samples\n",
      "14860/14860 [==============================] - 3s 224us/sample - loss: 0.0173 - val_loss: 0.0198\n",
      "epoch 72\n",
      "Train on 14860 samples, validate on 1652 samples\n",
      "14860/14860 [==============================] - 3s 224us/sample - loss: 0.0173 - val_loss: 0.0188\n",
      "epoch 73\n",
      "Train on 14860 samples, validate on 1652 samples\n",
      "14860/14860 [==============================] - 3s 223us/sample - loss: 0.0172 - val_loss: 0.0182\n",
      "epoch 74\n",
      "Train on 14860 samples, validate on 1652 samples\n",
      "14860/14860 [==============================] - 3s 224us/sample - loss: 0.0171 - val_loss: 0.0184\n",
      "epoch 75\n",
      "Train on 14860 samples, validate on 1652 samples\n",
      "14860/14860 [==============================] - 3s 232us/sample - loss: 0.0172 - val_loss: 0.0185\n",
      "epoch 76\n",
      "Train on 14860 samples, validate on 1652 samples\n",
      "14860/14860 [==============================] - 3s 224us/sample - loss: 0.0172 - val_loss: 0.0184\n",
      "epoch 77\n",
      "Train on 14860 samples, validate on 1652 samples\n",
      "14860/14860 [==============================] - 3s 228us/sample - loss: 0.0171 - val_loss: 0.0181\n",
      "epoch 78\n",
      "Train on 14860 samples, validate on 1652 samples\n",
      "14860/14860 [==============================] - 3s 225us/sample - loss: 0.0170 - val_loss: 0.0184\n",
      "epoch 79\n",
      "Train on 14860 samples, validate on 1652 samples\n",
      "14860/14860 [==============================] - 3s 229us/sample - loss: 0.0168 - val_loss: 0.0184\n",
      "epoch 80\n",
      "Train on 14860 samples, validate on 1652 samples\n",
      "14860/14860 [==============================] - 3s 226us/sample - loss: 0.0168 - val_loss: 0.0183\n",
      "epoch 81\n",
      "Train on 14860 samples, validate on 1652 samples\n",
      "14860/14860 [==============================] - 3s 226us/sample - loss: 0.0170 - val_loss: 0.0186\n",
      "epoch 82\n",
      "Train on 14860 samples, validate on 1652 samples\n",
      "14860/14860 [==============================] - 3s 224us/sample - loss: 0.0169 - val_loss: 0.0182\n",
      "epoch 83\n",
      "Train on 14860 samples, validate on 1652 samples\n",
      "14860/14860 [==============================] - 3s 225us/sample - loss: 0.0169 - val_loss: 0.0182\n",
      "epoch 84\n",
      "Train on 14860 samples, validate on 1652 samples\n",
      "14860/14860 [==============================] - 3s 232us/sample - loss: 0.0167 - val_loss: 0.0184\n",
      "epoch 85\n",
      "Train on 14860 samples, validate on 1652 samples\n",
      "14860/14860 [==============================] - 3s 225us/sample - loss: 0.0168 - val_loss: 0.0193\n",
      "epoch 86\n",
      "Train on 14860 samples, validate on 1652 samples\n",
      "14860/14860 [==============================] - 3s 230us/sample - loss: 0.0167 - val_loss: 0.0189\n",
      "epoch 87\n",
      "Train on 14860 samples, validate on 1652 samples\n",
      "14860/14860 [==============================] - 3s 226us/sample - loss: 0.0168 - val_loss: 0.0180\n",
      "epoch 88\n",
      "Train on 14860 samples, validate on 1652 samples\n",
      "14860/14860 [==============================] - 3s 225us/sample - loss: 0.0166 - val_loss: 0.0185\n",
      "epoch 89\n",
      "Train on 14860 samples, validate on 1652 samples\n",
      "14860/14860 [==============================] - 3s 230us/sample - loss: 0.0166 - val_loss: 0.0181\n",
      "epoch 90\n",
      "Train on 14860 samples, validate on 1652 samples\n",
      "14860/14860 [==============================] - 3s 227us/sample - loss: 0.0166 - val_loss: 0.0184\n",
      "epoch 91\n",
      "Train on 14860 samples, validate on 1652 samples\n",
      "14860/14860 [==============================] - 3s 225us/sample - loss: 0.0168 - val_loss: 0.0179\n",
      "epoch 92\n",
      "Train on 14860 samples, validate on 1652 samples\n",
      "14860/14860 [==============================] - 3s 224us/sample - loss: 0.0165 - val_loss: 0.0183\n",
      "epoch 93\n",
      "Train on 14860 samples, validate on 1652 samples\n",
      "14860/14860 [==============================] - 3s 235us/sample - loss: 0.0165 - val_loss: 0.0198\n",
      "epoch 94\n",
      "Train on 14860 samples, validate on 1652 samples\n",
      "14860/14860 [==============================] - 3s 224us/sample - loss: 0.0165 - val_loss: 0.0179\n",
      "epoch 95\n",
      "Train on 14860 samples, validate on 1652 samples\n",
      "14860/14860 [==============================] - 3s 225us/sample - loss: 0.0164 - val_loss: 0.0178\n",
      "epoch 96\n",
      "Train on 14860 samples, validate on 1652 samples\n",
      "14860/14860 [==============================] - 3s 226us/sample - loss: 0.0164 - val_loss: 0.0187\n",
      "epoch 97\n",
      "Train on 14860 samples, validate on 1652 samples\n",
      "14860/14860 [==============================] - 3s 224us/sample - loss: 0.0165 - val_loss: 0.0179\n",
      "epoch 98\n",
      "Train on 14860 samples, validate on 1652 samples\n",
      "14860/14860 [==============================] - 3s 230us/sample - loss: 0.0164 - val_loss: 0.0182\n",
      "epoch 99\n",
      "Train on 14860 samples, validate on 1652 samples\n",
      "14860/14860 [==============================] - 3s 224us/sample - loss: 0.0164 - val_loss: 0.0183\n"
     ]
    }
   ],
   "source": [
    "for epoch in range(0, 100):\n",
    "    #set epochs=1\n",
    "    print('epoch', epoch)\n",
    "    history=model.fit(X_train, Y_train, batch_size=8, epochs=1, validation_data=(X_val, Y_val))\n",
    "    loss_train_list.extend(history.history['loss'])\n",
    "    loss_val_list.extend(history.history['val_loss'])"
   ]
  },
  {
   "cell_type": "code",
   "execution_count": null,
   "metadata": {},
   "outputs": [],
   "source": []
  },
  {
   "cell_type": "markdown",
   "metadata": {},
   "source": [
    "plot the loss vs epoch curve"
   ]
  },
  {
   "cell_type": "code",
   "execution_count": 70,
   "metadata": {},
   "outputs": [
    {
     "data": {
      "text/plain": [
       "<matplotlib.legend.Legend at 0x24104649248>"
      ]
     },
     "execution_count": 70,
     "metadata": {},
     "output_type": "execute_result"
    },
    {
     "data": {
      "image/png": "[encoded data removed]",
      "text/plain": [
       "<Figure size 432x288 with 1 Axes>"
      ]
     },
     "metadata": {
      "needs_background": "light"
     },
     "output_type": "display_data"
    }
   ],
   "source": [
    "fig, ax = plt.subplots()\n",
    "ax.plot(np.arange(0,len(loss_train_list)), loss_train_list, '-b', label='training loss')\n",
    "ax.plot(np.arange(0,len(loss_val_list)), loss_val_list, '-r', label='validation loss')\n",
    "ax.set_xlabel('epoch',fontsize=16)\n",
    "ax.legend(fontsize=16)"
   ]
  },
  {
   "cell_type": "markdown",
   "metadata": {},
   "source": [
    "after training, we evaluate the model on the test dataset"
   ]
  },
  {
   "cell_type": "code",
   "execution_count": 71,
   "metadata": {},
   "outputs": [
    {
     "name": "stdout",
     "output_type": "stream",
     "text": [
      "Test loss: 0.016780937191589858\n"
     ]
    }
   ],
   "source": [
    "# get the loss on test set\n",
    "score = model.evaluate(X_test, Y_test, batch_size=64, verbose=0)\n",
    "print('Test loss:', score)"
   ]
  },
  {
   "cell_type": "code",
   "execution_count": 72,
   "metadata": {},
   "outputs": [],
   "source": [
    "#get Yp_test by using model.predict\n",
    "Yp_test=model.predict(X_test, batch_size=64)"
   ]
  },
  {
   "cell_type": "code",
   "execution_count": 73,
   "metadata": {},
   "outputs": [
    {
     "data": {
      "text/plain": [
       "numpy.ndarray"
      ]
     },
     "execution_count": 73,
     "metadata": {},
     "output_type": "execute_result"
    }
   ],
   "source": [
    "type(Yp_test)"
   ]
  },
  {
   "cell_type": "code",
   "execution_count": 74,
   "metadata": {},
   "outputs": [
    {
     "data": {
      "text/plain": [
       "(4128, 1)"
      ]
     },
     "execution_count": 74,
     "metadata": {},
     "output_type": "execute_result"
    }
   ],
   "source": [
    "Yp_test.shape"
   ]
  },
  {
   "cell_type": "code",
   "execution_count": 75,
   "metadata": {},
   "outputs": [],
   "source": [
    "Yp_test=Yp_test.squeeze()"
   ]
  },
  {
   "cell_type": "code",
   "execution_count": 76,
   "metadata": {},
   "outputs": [
    {
     "data": {
      "text/plain": [
       "(4128,)"
      ]
     },
     "execution_count": 76,
     "metadata": {},
     "output_type": "execute_result"
    }
   ],
   "source": [
    "Yp_test.shape"
   ]
  },
  {
   "cell_type": "code",
   "execution_count": 77,
   "metadata": {},
   "outputs": [
    {
     "data": {
      "text/plain": [
       "(4128,)"
      ]
     },
     "execution_count": 77,
     "metadata": {},
     "output_type": "execute_result"
    }
   ],
   "source": [
    "Y_test.shape"
   ]
  },
  {
   "cell_type": "code",
   "execution_count": 78,
   "metadata": {},
   "outputs": [
    {
     "name": "stdout",
     "output_type": "stream",
     "text": [
      "Evaluate model on testing set\n",
      "Evaluate model on testing set\n",
      "MSE= 0.016780939\n",
      "MAE= 0.09312906\n",
      "MAPE= 0.27532867\n"
     ]
    }
   ],
   "source": [
    "print('Evaluate model on testing set')\n",
    "MSE = np.mean((Y_test - Yp_test)**2)\n",
    "MAE = np.mean(np.abs(Y_test - Yp_test))\n",
    "MAPE =  np.mean(np.abs(Y_test - Yp_test)/Y_test)\n",
    "\n",
    "print('Evaluate model on testing set')\n",
    "print('MSE=', MSE)\n",
    "print('MAE=', MAE)\n",
    "print('MAPE=', MAPE)"
   ]
  },
  {
   "cell_type": "code",
   "execution_count": 79,
   "metadata": {},
   "outputs": [
    {
     "data": {
      "text/plain": [
       "Text(0, 0.5, 'Y_test_pred')"
      ]
     },
     "execution_count": 79,
     "metadata": {},
     "output_type": "execute_result"
    },
    {
     "data": {
      "image/png": "[encoded data removed]",
      "text/plain": [
       "<Figure size 432x288 with 1 Axes>"
      ]
     },
     "metadata": {
      "needs_background": "light"
     },
     "output_type": "display_data"
    }
   ],
   "source": [
    "# plot Yp_test vs Y_test\n",
    "# the red line is the 45-degree line\n",
    "fig, ax = plt.subplots()\n",
    "ax.set_title('Y_test_pred vs Y_test')\n",
    "ax.plot(Y_test, Yp_test, '.')\n",
    "ymax=np.max([Y_test.max(), Yp_test.max()])\n",
    "ax.plot(np.linspace(0,ymax, 3), np.linspace(0, ymax, 3), '-r')\n",
    "ax.set_xlabel('Y_test')\n",
    "ax.set_ylabel('Y_test_pred')"
   ]
  },
  {
   "cell_type": "markdown",
   "metadata": {},
   "source": [
    "### change the structure of the MLP model and see if it can do better than XGBoost"
   ]
  },
  {
   "cell_type": "code",
   "execution_count": 80,
   "metadata": {},
   "outputs": [
    {
     "name": "stdout",
     "output_type": "stream",
     "text": [
      "Model: \"sequential_4\"\n",
      "_________________________________________________________________\n",
      "Layer (type)                 Output Shape              Param #   \n",
      "=================================================================\n",
      "dense_12 (Dense)             (None, 16)                224       \n",
      "_________________________________________________________________\n",
      "dense_13 (Dense)             (None, 16)                272       \n",
      "_________________________________________________________________\n",
      "dense_14 (Dense)             (None, 1)                 17        \n",
      "=================================================================\n",
      "Total params: 513\n",
      "Trainable params: 513\n",
      "Non-trainable params: 0\n",
      "_________________________________________________________________\n"
     ]
    }
   ],
   "source": [
    "#define a new model\n",
    "# all softplus as activation function\n",
    "model = Sequential()\n",
    "model.add(Dense(units=16, activation='softplus', input_shape=(13,)))\n",
    "model.add(Dense(units=16, activation='softplus'))\n",
    "model.add(Dense(units=1, activation='softplus'))\n",
    "model.compile(loss='mse', optimizer=Adam())\n",
    "model.summary()"
   ]
  },
  {
   "cell_type": "code",
   "execution_count": 81,
   "metadata": {},
   "outputs": [
    {
     "name": "stdout",
     "output_type": "stream",
     "text": [
      "Train on 14860 samples, validate on 1652 samples\n",
      "Epoch 1/10\n",
      "14860/14860 [==============================] - 4s 246us/sample - loss: 0.0442 - val_loss: 0.0253\n",
      "Epoch 2/10\n",
      "14860/14860 [==============================] - 3s 226us/sample - loss: 0.0226 - val_loss: 0.0231\n",
      "Epoch 3/10\n",
      "14860/14860 [==============================] - 3s 229us/sample - loss: 0.0214 - val_loss: 0.0223\n",
      "Epoch 4/10\n",
      "14860/14860 [==============================] - 3s 229us/sample - loss: 0.0206 - val_loss: 0.0213\n",
      "Epoch 5/10\n",
      "14860/14860 [==============================] - 3s 226us/sample - loss: 0.0199 - val_loss: 0.0207\n",
      "Epoch 6/10\n",
      "14860/14860 [==============================] - 3s 227us/sample - loss: 0.0192 - val_loss: 0.0206\n",
      "Epoch 7/10\n",
      "14860/14860 [==============================] - 3s 226us/sample - loss: 0.0188 - val_loss: 0.0208\n",
      "Epoch 8/10\n",
      "14860/14860 [==============================] - 3s 232us/sample - loss: 0.0184 - val_loss: 0.0200\n",
      "Epoch 9/10\n",
      "14860/14860 [==============================] - 3s 227us/sample - loss: 0.0181 - val_loss: 0.0196\n",
      "Epoch 10/10\n",
      "14860/14860 [==============================] - 3s 228us/sample - loss: 0.0179 - val_loss: 0.0190\n"
     ]
    }
   ],
   "source": [
    "#train, validate and test the model\n",
    "history=model.fit(X_train, Y_train, batch_size=8, epochs=10, validation_data=(X_val, Y_val))"
   ]
  },
  {
   "cell_type": "code",
   "execution_count": 82,
   "metadata": {},
   "outputs": [
    {
     "name": "stdout",
     "output_type": "stream",
     "text": [
      "Train on 14860 samples\n",
      "14860/14860 [==============================] - 1s 53us/sample - loss: 0.0174\n"
     ]
    }
   ],
   "source": [
    "model.fit(X_train, Y_train)\n",
    "Y_train_pred = model.predict(X_train, batch_size=64)\n",
    "Y_test_pred = model.predict(X_test, batch_size=64)"
   ]
  },
  {
   "cell_type": "code",
   "execution_count": 83,
   "metadata": {},
   "outputs": [
    {
     "name": "stdout",
     "output_type": "stream",
     "text": [
      "Evaluate model on traning set\n",
      "MSE= 0.090724625\n",
      "MAE= 0.23504668\n",
      "MAPE= 0.7603634\n",
      "Evaluate model on testing set\n",
      "MSE= 0.08774721\n",
      "MAE= 0.23114751\n",
      "MAPE= 0.75029755\n"
     ]
    }
   ],
   "source": [
    "print('Evaluate model on traning set')\n",
    "MSE = np.mean((Y_train - Y_train_pred)**2)\n",
    "MAE = np.mean(np.abs(Y_train - Y_train_pred))\n",
    "MAPE =  np.mean(np.abs(Y_train - Y_train_pred)/Y_train)\n",
    "print('MSE=', MSE)\n",
    "print('MAE=', MAE)\n",
    "print('MAPE=', MAPE)\n",
    "print('Evaluate model on testing set')\n",
    "MSE = np.mean((Y_test - Y_test_pred)**2)\n",
    "MAE = np.mean(np.abs(Y_test - Y_test_pred))\n",
    "MAPE =  np.mean(np.abs(Y_test - Y_test_pred)/Y_test)\n",
    "print('MSE=', MSE)\n",
    "print('MAE=', MAE)\n",
    "print('MAPE=', MAPE)"
   ]
  },
  {
   "cell_type": "code",
   "execution_count": 84,
   "metadata": {},
   "outputs": [],
   "source": [
    "from xgboost.sklearn import XGBRegressor\n",
    "# Using XGBoosting, hyperparameters: n_estimator=20, depth=11\n",
    "xgb = XGBRegressor(n_estimators = 20, max_depth=11, objective='reg:squarederror',\n",
    "                   random_state = 0)\n",
    "xgb.fit(X_train, Y_train)\n",
    "Y_train_pred = xgb.predict(X_train)\n",
    "Y_test_pred = xgb.predict(X_test)"
   ]
  },
  {
   "cell_type": "code",
   "execution_count": 85,
   "metadata": {},
   "outputs": [
    {
     "name": "stdout",
     "output_type": "stream",
     "text": [
      "Evaluate model on traning set\n",
      "MSE= 0.001260497\n",
      "MAE= 0.024217501\n",
      "MAPE= 0.07292371\n",
      "Evaluate model on testing set\n",
      "MSE= 0.009016995\n",
      "MAE= 0.06273212\n",
      "MAPE= 0.17792384\n"
     ]
    }
   ],
   "source": [
    "#train and test a XGBRegressor using the best max_depth\n",
    "print('Evaluate model on traning set')\n",
    "MSE = np.mean((Y_train - Y_train_pred)**2)\n",
    "MAE = np.mean(np.abs(Y_train - Y_train_pred))\n",
    "MAPE =  np.mean(np.abs(Y_train - Y_train_pred)/Y_train)\n",
    "print('MSE=', MSE)\n",
    "print('MAE=', MAE)\n",
    "print('MAPE=', MAPE)\n",
    "print('Evaluate model on testing set')\n",
    "MSE = np.mean((Y_test - Y_test_pred)**2)\n",
    "MAE = np.mean(np.abs(Y_test - Y_test_pred))\n",
    "MAPE =  np.mean(np.abs(Y_test - Y_test_pred)/Y_test)\n",
    "print('MSE=', MSE)\n",
    "print('MAE=', MAE)\n",
    "print('MAPE=', MAPE)"
   ]
  },
  {
   "cell_type": "code",
   "execution_count": 86,
   "metadata": {},
   "outputs": [],
   "source": [
    "# The new MLP model could not do a better job than XGBoosting"
   ]
  }
 ],
 "metadata": {
  "colab": {
   "name": "Untitled4.ipynb",
   "provenance": []
  },
  "kernelspec": {
   "display_name": "Python 3",
   "language": "python",
   "name": "python3"
  },
  "language_info": {
   "codemirror_mode": {
    "name": "ipython",
    "version": 3
   },
   "file_extension": ".py",
   "mimetype": "text/x-python",
   "name": "python",
   "nbconvert_exporter": "python",
   "pygments_lexer": "ipython3",
   "version": "3.7.4"
  }
 },
 "nbformat": 4,
 "nbformat_minor": 1
}
